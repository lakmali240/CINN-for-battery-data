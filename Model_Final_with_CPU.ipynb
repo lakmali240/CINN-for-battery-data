{
 "cells": [
  {
   "cell_type": "code",
   "execution_count": 15,
   "metadata": {},
   "outputs": [],
   "source": [
    "os.environ[\"CUDA_VISIBLE_DEVICES\"] = \"-1\""
   ]
  },
  {
   "cell_type": "code",
   "execution_count": 16,
   "metadata": {},
   "outputs": [],
   "source": [
    "import tensorflow as tf\n",
    "#import tensorflow as tf\n",
    "#tf.config.list_physical_devices('GPU')"
   ]
  },
  {
   "cell_type": "code",
   "execution_count": 17,
   "metadata": {},
   "outputs": [
    {
     "name": "stdout",
     "output_type": "stream",
     "text": [
      "[name: \"/device:CPU:0\"\n",
      "device_type: \"CPU\"\n",
      "memory_limit: 268435456\n",
      "locality {\n",
      "}\n",
      "incarnation: 289453460426000826\n",
      "xla_global_id: -1\n",
      "]\n"
     ]
    }
   ],
   "source": [
    "from tensorflow.python.client import device_lib\n",
    "print(device_lib.list_local_devices())"
   ]
  },
  {
   "cell_type": "code",
   "execution_count": 18,
   "metadata": {},
   "outputs": [],
   "source": [
    "from tensorflow.keras.regularizers import l2\n",
    "#import tensorflow.contrib.eager as tfe\n",
    "from tqdm import tqdm_notebook as tqdm\n",
    "import numpy as np\n",
    "import pandas as pd\n",
    "import pickle\n",
    "from scipy import stats\n",
    "import matplotlib.pyplot as plt\n",
    "from matplotlib.ticker import FormatStrFormatter\n",
    "import seaborn as sns\n",
    "np.set_printoptions(suppress=True)\n",
    "from scipy.io import loadmat\n",
    "import argparse\n",
    "import json\n",
    "import numpy as np\n",
    "import os\n",
    "\n",
    "\n",
    "\n",
    "\n",
    "from models import DeepConditionalModel\n",
    "from inn_utils import (train_online_ml, compute_performance_metrics, train_online_kl, \n",
    "                       train_online_heteroscedastic, train_online_iaf)\n",
    "from process_models import simulate_model_params, simulate_model, simulate_model_params, load_test_model\n",
    "from viz import (plot_true_est_scatter, plot_true_est_posterior, \n",
    "                 plot_losses, plot_sbc, plot_performance_metrics, plot_contraction,\n",
    "                 plot_true_est_posterior_samples)\n",
    "import diagnostics as diag"
   ]
  },
  {
   "cell_type": "code",
   "execution_count": 19,
   "metadata": {},
   "outputs": [],
   "source": [
    "tf.compat.v1.enable_eager_execution(\n",
    "    config=None, device_policy=None, execution_mode=None\n",
    ")"
   ]
  },
  {
   "cell_type": "code",
   "execution_count": 20,
   "metadata": {},
   "outputs": [
    {
     "name": "stdout",
     "output_type": "stream",
     "text": [
      "The autoreload extension is already loaded. To reload it, use:\n",
      "  %reload_ext autoreload\n"
     ]
    }
   ],
   "source": [
    "%load_ext autoreload\n",
    "%autoreload 2"
   ]
  },
  {
   "cell_type": "markdown",
   "metadata": {},
   "source": [
    "# Conditional Invertible Neural Network (cINN)"
   ]
  },
  {
   "cell_type": "markdown",
   "metadata": {},
   "source": [
    "## Summary network for the Ricker model\n",
    "<p>We use an LSTM for the observed time-series data.</p>"
   ]
  },
  {
   "cell_type": "code",
   "execution_count": 21,
   "metadata": {
    "code_folding": []
   },
   "outputs": [],
   "source": [
    "class SequenceNetwork(tf.keras.Model):\n",
    "    \"\"\"\n",
    "    Implements an LSTM summary network to summarize time-series data generated from the Ricker model.\n",
    "    \"\"\"\n",
    "    \n",
    "    def __init__(self, h_lstm_dim=32, h_dense_dim=64):\n",
    "        super(SequenceNetwork, self).__init__()\n",
    "        \n",
    "        self.summary_part = tf.keras.Sequential([\n",
    "            tf.keras.layers.Bidirectional(tf.keras.layers.CuDNNLSTM(h_lstm_dim)),\n",
    "            tf.keras.layers.BatchNormalization(),\n",
    "            tf.keras.layers.Dense(h_dense_dim, kernel_initializer='glorot_uniform'),\n",
    "            tf.keras.layers.BatchNormalization(),\n",
    "            tf.keras.layers.Activation('elu'),\n",
    "            tf.keras.layers.Dense(h_dense_dim, kernel_initializer='glorot_uniform'),\n",
    "            tf.keras.layers.BatchNormalization(),\n",
    "            tf.keras.layers.Activation('elu'),\n",
    "        ])\n",
    "    \n",
    "    def call(self, x, training=True):\n",
    "        \n",
    "        x = self.summary_part(x, training=training)\n",
    "        return x"
   ]
  },
  {
   "cell_type": "markdown",
   "metadata": {},
   "source": [
    "<p>We will also append a dummy noise parameter to the true parameter vector.</p>"
   ]
  },
  {
   "cell_type": "code",
   "execution_count": 22,
   "metadata": {},
   "outputs": [],
   "source": [
    "def add_noise_var(X_batch, theta_batch):\n",
    "    \"\"\"\n",
    "    Adds a column of uniform noise to the true parameter values.\n",
    "    \"\"\"\n",
    "    \n",
    "    noise_col = tf.random.uniform(shape=(theta_batch.shape[0], 1))\n",
    "    theta_batch = tf.concat((theta_batch, noise_col), axis=-1)\n",
    "    return X_batch, theta_batch"
   ]
  },
  {
   "cell_type": "markdown",
   "metadata": {},
   "source": [
    "## Initialization "
   ]
  },
  {
   "cell_type": "code",
   "execution_count": 23,
   "metadata": {
    "code_folding": []
   },
   "outputs": [],
   "source": [
    "# --- Structure of the coupling blocks in the INN chain --- #\n",
    "inv_meta = {\n",
    "    'n_units': [64, 64, 64, 64, 64],\n",
    "    #'n_units': [10, 10, 10, 10, 10],\n",
    "    'activation': 'elu',\n",
    "    'w_decay': 0.00001,\n",
    "    'initializer': 'glorot_uniform'\n",
    "}\n",
    "\n",
    "\n",
    "# --- Training hyperparameters --- #\n",
    "train = False\n",
    "param_names = [r'$\\alpha$', r'$\\beta$', r'$\\Lambda$', r's',r'\\Theta']\n",
    "theta_dim = 5\n",
    "global_step = tf.Variable(0, dtype=tf.int32)\n",
    "batch_size = 64\n",
    "summary_dim = 64\n",
    "epochs = 100\n",
    "iterations_per_epoch = 1000\n",
    "n_inv_blocks = 10\n",
    "n_test = 300\n",
    "n_test2 = 3\n",
    "n_samples_posterior = 2000\n",
    "starter_learning_rate = 0.001\n",
    "decay_steps = 2000\n",
    "decay_rate = 0.1\n",
    "clip_value = 5.\n",
    "learning_rate = tf.compat.v1.train.exponential_decay(starter_learning_rate, global_step, decay_steps, decay_rate)\n",
    "#earning_rate = tf.compat.v1.train.polynomial_decay(starter_learning_rate,global_step=tf.Variable(0, trainable=False), decay_steps=10000,end_learning_rate=0.5,power=0.5,cycle=False,name=None)"
   ]
  },
  {
   "cell_type": "markdown",
   "metadata": {},
   "source": [
    "### Create test data"
   ]
  },
  {
   "cell_type": "code",
   "execution_count": 36,
   "metadata": {},
   "outputs": [
    {
     "name": "stdout",
     "output_type": "stream",
     "text": [
      "(64, 170)\n",
      "(64, 5)\n",
      "(64, 170)\n",
      "(64, 5)\n"
     ]
    },
    {
     "data": {
      "image/png": "[encoded data removed]",
      "text/plain": [
       "<Figure size 432x288 with 1 Axes>"
      ]
     },
     "metadata": {
      "needs_background": "light"
     },
     "output_type": "display_data"
    }
   ],
   "source": [
    "# For scatter\n",
    "#simulate_model(100, n_points=500, to_tensor=False)\n",
    "X_sim, theta_sim = simulate_model()\n",
    " \n",
    "np.save('model_X.npy', X_sim)\n",
    "np.save('model_theta.npy', theta_sim)\n",
    "\n",
    "print(X_sim.shape)\n",
    "print(theta_sim.shape)\n",
    "X_test, theta_test = load_test_model()\n",
    "\n",
    "print(X_test.shape)\n",
    "print(theta_test.shape)\n",
    "\n",
    "plt.plot(X_sim[0][1:],label='Batch-1')\n",
    "plt.plot(X_sim[1][1:],label='Batch-2')\n",
    "plt.plot(X_sim[2][1:],label='Batch-3')\n",
    "'''plt.plot(X_sim[3][1:],label='Batch-4')\n",
    "plt.plot(X_sim[4][1:],label='Batch-5')\n",
    "plt.plot(X_sim[6][1:],label='Batch-6')'''\n",
    "plt.plot(X_sim[63][1:],label='Batch-100')\n",
    "plt.title(\"Simulated battery capacity data for the model\")\n",
    "plt.xlabel('cycle')\n",
    "plt.ylabel('Normalized Capacity')\n",
    "plt.legend()\n",
    "plt.grid()\n",
    "plt.show()"
   ]
  },
  {
   "cell_type": "markdown",
   "metadata": {},
   "source": [
    "### Create networks"
   ]
  },
  {
   "cell_type": "code",
   "execution_count": 37,
   "metadata": {},
   "outputs": [],
   "source": [
    "#summary_net = SequenceNetwork(h_lstm_dim=summary_dim)\n",
    "model = DeepConditionalModel(inv_meta, n_inv_blocks, theta_dim, summary_net=None, permute=True)\n",
    "optimizer = tf.compat.v1.train.AdamOptimizer(learning_rate=learning_rate)"
   ]
  },
  {
   "cell_type": "markdown",
   "metadata": {},
   "source": [
    "### Plot performance of untrained networks"
   ]
  },
  {
   "cell_type": "code",
   "execution_count": 38,
   "metadata": {},
   "outputs": [
    {
     "data": {
      "image/png": "[encoded data removed]",
      "text/plain": [
       "<Figure size 864x360 with 5 Axes>"
      ]
     },
     "metadata": {
      "needs_background": "light"
     },
     "output_type": "display_data"
    }
   ],
   "source": [
    "plot_true_est_scatter(model, X_test, theta_test, n_samples_posterior, param_names[:5], figsize=(12, 5))\n"
   ]
  },
  {
   "cell_type": "markdown",
   "metadata": {},
   "source": [
    "### Checkpoint manager"
   ]
  },
  {
   "cell_type": "code",
   "execution_count": 39,
   "metadata": {},
   "outputs": [
    {
     "name": "stdout",
     "output_type": "stream",
     "text": [
      "Restored from ./checkpoints/model\\ckpt-435\n"
     ]
    }
   ],
   "source": [
    "\n",
    "checkpoint = tf.train.Checkpoint(step=global_step, optimizer=optimizer, net=model)\n",
    "manager = tf.train.CheckpointManager(checkpoint, './checkpoints/model', max_to_keep=5)\n",
    "checkpoint.restore(manager.latest_checkpoint)\n",
    "if manager.latest_checkpoint:\n",
    "    print(\"Restored from {}\".format(manager.latest_checkpoint))\n",
    "else:\n",
    "    print(\"Initializing from scratch.\")\n"
   ]
  },
  {
   "cell_type": "markdown",
   "metadata": {},
   "source": [
    "## Train the model"
   ]
  },
  {
   "cell_type": "code",
   "execution_count": 40,
   "metadata": {},
   "outputs": [
    {
     "name": "stderr",
     "output_type": "stream",
     "text": [
      "<timed exec>:2: TqdmDeprecationWarning: This function will be removed in tqdm==5.0.0\n",
      "Please use `tqdm.notebook.tqdm` instead of `tqdm.tqdm_notebook`\n"
     ]
    },
    {
     "data": {
      "application/vnd.jupyter.widget-view+json": {
       "model_id": "e89b33151c2b4fe398b7fa0be3679464",
       "version_major": 2,
       "version_minor": 0
      },
      "text/plain": [
       "Training epoch 1:   0%|          | 0/1000 [00:00<?, ?it/s]"
      ]
     },
     "metadata": {},
     "output_type": "display_data"
    },
    {
     "data": {
      "application/vnd.jupyter.widget-view+json": {
       "model_id": "ac2d88ce691448d092a8248eba05c975",
       "version_major": 2,
       "version_minor": 0
      },
      "text/plain": [
       "Training epoch 2:   0%|          | 0/1000 [00:00<?, ?it/s]"
      ]
     },
     "metadata": {},
     "output_type": "display_data"
    },
    {
     "data": {
      "application/vnd.jupyter.widget-view+json": {
       "model_id": "2cc06f1fab384748aa9cd218cf09b0e2",
       "version_major": 2,
       "version_minor": 0
      },
      "text/plain": [
       "Training epoch 3:   0%|          | 0/1000 [00:00<?, ?it/s]"
      ]
     },
     "metadata": {},
     "output_type": "display_data"
    },
    {
     "data": {
      "application/vnd.jupyter.widget-view+json": {
       "model_id": "ffeb648cd2574538a9ca0f99fc67d10b",
       "version_major": 2,
       "version_minor": 0
      },
      "text/plain": [
       "Training epoch 4:   0%|          | 0/1000 [00:00<?, ?it/s]"
      ]
     },
     "metadata": {},
     "output_type": "display_data"
    },
    {
     "data": {
      "application/vnd.jupyter.widget-view+json": {
       "model_id": "9edff4fd07cc4c5f8caebe7f1024d252",
       "version_major": 2,
       "version_minor": 0
      },
      "text/plain": [
       "Training epoch 5:   0%|          | 0/1000 [00:00<?, ?it/s]"
      ]
     },
     "metadata": {},
     "output_type": "display_data"
    },
    {
     "data": {
      "application/vnd.jupyter.widget-view+json": {
       "model_id": "756c6d8ea85f42aca786a84f3368d2d7",
       "version_major": 2,
       "version_minor": 0
      },
      "text/plain": [
       "Training epoch 6:   0%|          | 0/1000 [00:00<?, ?it/s]"
      ]
     },
     "metadata": {},
     "output_type": "display_data"
    },
    {
     "data": {
      "application/vnd.jupyter.widget-view+json": {
       "model_id": "fde89a85fc0d45599feb9b868e976785",
       "version_major": 2,
       "version_minor": 0
      },
      "text/plain": [
       "Training epoch 7:   0%|          | 0/1000 [00:00<?, ?it/s]"
      ]
     },
     "metadata": {},
     "output_type": "display_data"
    },
    {
     "data": {
      "application/vnd.jupyter.widget-view+json": {
       "model_id": "3d95c9d7683f4b07a52fd83b5780c689",
       "version_major": 2,
       "version_minor": 0
      },
      "text/plain": [
       "Training epoch 8:   0%|          | 0/1000 [00:00<?, ?it/s]"
      ]
     },
     "metadata": {},
     "output_type": "display_data"
    },
    {
     "data": {
      "application/vnd.jupyter.widget-view+json": {
       "model_id": "5c3100770ae6461da849f56582aa28ad",
       "version_major": 2,
       "version_minor": 0
      },
      "text/plain": [
       "Training epoch 9:   0%|          | 0/1000 [00:00<?, ?it/s]"
      ]
     },
     "metadata": {},
     "output_type": "display_data"
    },
    {
     "data": {
      "application/vnd.jupyter.widget-view+json": {
       "model_id": "9b2d474b704d47c38cd461bbddecf2d3",
       "version_major": 2,
       "version_minor": 0
      },
      "text/plain": [
       "Training epoch 10:   0%|          | 0/1000 [00:00<?, ?it/s]"
      ]
     },
     "metadata": {},
     "output_type": "display_data"
    },
    {
     "data": {
      "application/vnd.jupyter.widget-view+json": {
       "model_id": "6b9bb99062644e508d7e298a711b9b5b",
       "version_major": 2,
       "version_minor": 0
      },
      "text/plain": [
       "Training epoch 11:   0%|          | 0/1000 [00:00<?, ?it/s]"
      ]
     },
     "metadata": {},
     "output_type": "display_data"
    },
    {
     "data": {
      "application/vnd.jupyter.widget-view+json": {
       "model_id": "a7a5d960b3d84902b27094755fa485e8",
       "version_major": 2,
       "version_minor": 0
      },
      "text/plain": [
       "Training epoch 12:   0%|          | 0/1000 [00:00<?, ?it/s]"
      ]
     },
     "metadata": {},
     "output_type": "display_data"
    },
    {
     "data": {
      "application/vnd.jupyter.widget-view+json": {
       "model_id": "fa37b22c669a46e09d33348db1657f0c",
       "version_major": 2,
       "version_minor": 0
      },
      "text/plain": [
       "Training epoch 13:   0%|          | 0/1000 [00:00<?, ?it/s]"
      ]
     },
     "metadata": {},
     "output_type": "display_data"
    },
    {
     "data": {
      "application/vnd.jupyter.widget-view+json": {
       "model_id": "6e8ddf8fb18b4ad78cd8293fb451ee64",
       "version_major": 2,
       "version_minor": 0
      },
      "text/plain": [
       "Training epoch 14:   0%|          | 0/1000 [00:00<?, ?it/s]"
      ]
     },
     "metadata": {},
     "output_type": "display_data"
    },
    {
     "data": {
      "application/vnd.jupyter.widget-view+json": {
       "model_id": "abe2ca1dd588418face15b8fe94d0281",
       "version_major": 2,
       "version_minor": 0
      },
      "text/plain": [
       "Training epoch 15:   0%|          | 0/1000 [00:00<?, ?it/s]"
      ]
     },
     "metadata": {},
     "output_type": "display_data"
    },
    {
     "data": {
      "application/vnd.jupyter.widget-view+json": {
       "model_id": "8dbac32a0cd3470580cd0364c27ac2d3",
       "version_major": 2,
       "version_minor": 0
      },
      "text/plain": [
       "Training epoch 16:   0%|          | 0/1000 [00:00<?, ?it/s]"
      ]
     },
     "metadata": {},
     "output_type": "display_data"
    },
    {
     "data": {
      "application/vnd.jupyter.widget-view+json": {
       "model_id": "e842ae2f70cf480c891c7df8545355d4",
       "version_major": 2,
       "version_minor": 0
      },
      "text/plain": [
       "Training epoch 17:   0%|          | 0/1000 [00:00<?, ?it/s]"
      ]
     },
     "metadata": {},
     "output_type": "display_data"
    },
    {
     "data": {
      "application/vnd.jupyter.widget-view+json": {
       "model_id": "2c0177729d2045299974d5d731355594",
       "version_major": 2,
       "version_minor": 0
      },
      "text/plain": [
       "Training epoch 18:   0%|          | 0/1000 [00:00<?, ?it/s]"
      ]
     },
     "metadata": {},
     "output_type": "display_data"
    },
    {
     "data": {
      "application/vnd.jupyter.widget-view+json": {
       "model_id": "34347d1109c740deb7bab9a75adb189b",
       "version_major": 2,
       "version_minor": 0
      },
      "text/plain": [
       "Training epoch 19:   0%|          | 0/1000 [00:00<?, ?it/s]"
      ]
     },
     "metadata": {},
     "output_type": "display_data"
    },
    {
     "data": {
      "application/vnd.jupyter.widget-view+json": {
       "model_id": "b29e2b0dc4c54b898b2f4b9b4ebd252b",
       "version_major": 2,
       "version_minor": 0
      },
      "text/plain": [
       "Training epoch 20:   0%|          | 0/1000 [00:00<?, ?it/s]"
      ]
     },
     "metadata": {},
     "output_type": "display_data"
    },
    {
     "data": {
      "application/vnd.jupyter.widget-view+json": {
       "model_id": "ccbd01e680d84880a30a7203f3698888",
       "version_major": 2,
       "version_minor": 0
      },
      "text/plain": [
       "Training epoch 21:   0%|          | 0/1000 [00:00<?, ?it/s]"
      ]
     },
     "metadata": {},
     "output_type": "display_data"
    },
    {
     "data": {
      "application/vnd.jupyter.widget-view+json": {
       "model_id": "f49828e8fb5442f59e881dbedf98f452",
       "version_major": 2,
       "version_minor": 0
      },
      "text/plain": [
       "Training epoch 22:   0%|          | 0/1000 [00:00<?, ?it/s]"
      ]
     },
     "metadata": {},
     "output_type": "display_data"
    },
    {
     "data": {
      "application/vnd.jupyter.widget-view+json": {
       "model_id": "5215becb7b6b4f87b9175fc9e9390ca9",
       "version_major": 2,
       "version_minor": 0
      },
      "text/plain": [
       "Training epoch 23:   0%|          | 0/1000 [00:00<?, ?it/s]"
      ]
     },
     "metadata": {},
     "output_type": "display_data"
    },
    {
     "data": {
      "application/vnd.jupyter.widget-view+json": {
       "model_id": "aa3faf839ac341df89852e9aaaba38fe",
       "version_major": 2,
       "version_minor": 0
      },
      "text/plain": [
       "Training epoch 24:   0%|          | 0/1000 [00:00<?, ?it/s]"
      ]
     },
     "metadata": {},
     "output_type": "display_data"
    },
    {
     "data": {
      "application/vnd.jupyter.widget-view+json": {
       "model_id": "816a666812ef44ec81b302214d45eea7",
       "version_major": 2,
       "version_minor": 0
      },
      "text/plain": [
       "Training epoch 25:   0%|          | 0/1000 [00:00<?, ?it/s]"
      ]
     },
     "metadata": {},
     "output_type": "display_data"
    },
    {
     "data": {
      "application/vnd.jupyter.widget-view+json": {
       "model_id": "0da253b3a58d4c0fa9cc7a84d7334d00",
       "version_major": 2,
       "version_minor": 0
      },
      "text/plain": [
       "Training epoch 26:   0%|          | 0/1000 [00:00<?, ?it/s]"
      ]
     },
     "metadata": {},
     "output_type": "display_data"
    },
    {
     "data": {
      "application/vnd.jupyter.widget-view+json": {
       "model_id": "61a016146f644442b84a0b6d68ed5b9f",
       "version_major": 2,
       "version_minor": 0
      },
      "text/plain": [
       "Training epoch 27:   0%|          | 0/1000 [00:00<?, ?it/s]"
      ]
     },
     "metadata": {},
     "output_type": "display_data"
    },
    {
     "data": {
      "application/vnd.jupyter.widget-view+json": {
       "model_id": "3a150ff165464c57a16a53d74a649939",
       "version_major": 2,
       "version_minor": 0
      },
      "text/plain": [
       "Training epoch 28:   0%|          | 0/1000 [00:00<?, ?it/s]"
      ]
     },
     "metadata": {},
     "output_type": "display_data"
    },
    {
     "data": {
      "application/vnd.jupyter.widget-view+json": {
       "model_id": "98e63a6a14b04f5db3d88e88449c369f",
       "version_major": 2,
       "version_minor": 0
      },
      "text/plain": [
       "Training epoch 29:   0%|          | 0/1000 [00:00<?, ?it/s]"
      ]
     },
     "metadata": {},
     "output_type": "display_data"
    },
    {
     "data": {
      "application/vnd.jupyter.widget-view+json": {
       "model_id": "3943e0fcf6a947288a31d126841f563a",
       "version_major": 2,
       "version_minor": 0
      },
      "text/plain": [
       "Training epoch 30:   0%|          | 0/1000 [00:00<?, ?it/s]"
      ]
     },
     "metadata": {},
     "output_type": "display_data"
    },
    {
     "data": {
      "application/vnd.jupyter.widget-view+json": {
       "model_id": "365adcc976204cd19685ca3a20399be6",
       "version_major": 2,
       "version_minor": 0
      },
      "text/plain": [
       "Training epoch 31:   0%|          | 0/1000 [00:00<?, ?it/s]"
      ]
     },
     "metadata": {},
     "output_type": "display_data"
    },
    {
     "data": {
      "application/vnd.jupyter.widget-view+json": {
       "model_id": "61c01e9dd8074de3bc7875780b9023d0",
       "version_major": 2,
       "version_minor": 0
      },
      "text/plain": [
       "Training epoch 32:   0%|          | 0/1000 [00:00<?, ?it/s]"
      ]
     },
     "metadata": {},
     "output_type": "display_data"
    },
    {
     "data": {
      "application/vnd.jupyter.widget-view+json": {
       "model_id": "99a1a618d6ce40f7ada10bc56651fe19",
       "version_major": 2,
       "version_minor": 0
      },
      "text/plain": [
       "Training epoch 33:   0%|          | 0/1000 [00:00<?, ?it/s]"
      ]
     },
     "metadata": {},
     "output_type": "display_data"
    },
    {
     "data": {
      "application/vnd.jupyter.widget-view+json": {
       "model_id": "91dd587c9f47460b988520994584b343",
       "version_major": 2,
       "version_minor": 0
      },
      "text/plain": [
       "Training epoch 34:   0%|          | 0/1000 [00:00<?, ?it/s]"
      ]
     },
     "metadata": {},
     "output_type": "display_data"
    },
    {
     "data": {
      "application/vnd.jupyter.widget-view+json": {
       "model_id": "bac678202c474fee9c502891a51ecfd8",
       "version_major": 2,
       "version_minor": 0
      },
      "text/plain": [
       "Training epoch 35:   0%|          | 0/1000 [00:00<?, ?it/s]"
      ]
     },
     "metadata": {},
     "output_type": "display_data"
    },
    {
     "data": {
      "application/vnd.jupyter.widget-view+json": {
       "model_id": "b13cb31d8bd34d61aab6dfbf68bef9c8",
       "version_major": 2,
       "version_minor": 0
      },
      "text/plain": [
       "Training epoch 36:   0%|          | 0/1000 [00:00<?, ?it/s]"
      ]
     },
     "metadata": {},
     "output_type": "display_data"
    },
    {
     "data": {
      "application/vnd.jupyter.widget-view+json": {
       "model_id": "f83a95a6d57d484ab1c8501663e702f5",
       "version_major": 2,
       "version_minor": 0
      },
      "text/plain": [
       "Training epoch 37:   0%|          | 0/1000 [00:00<?, ?it/s]"
      ]
     },
     "metadata": {},
     "output_type": "display_data"
    },
    {
     "data": {
      "application/vnd.jupyter.widget-view+json": {
       "model_id": "7881ad53babc442dae7315656e39a0f7",
       "version_major": 2,
       "version_minor": 0
      },
      "text/plain": [
       "Training epoch 38:   0%|          | 0/1000 [00:00<?, ?it/s]"
      ]
     },
     "metadata": {},
     "output_type": "display_data"
    },
    {
     "data": {
      "application/vnd.jupyter.widget-view+json": {
       "model_id": "c97a2b1c9d654b269bae0b797d33b81d",
       "version_major": 2,
       "version_minor": 0
      },
      "text/plain": [
       "Training epoch 39:   0%|          | 0/1000 [00:00<?, ?it/s]"
      ]
     },
     "metadata": {},
     "output_type": "display_data"
    },
    {
     "data": {
      "application/vnd.jupyter.widget-view+json": {
       "model_id": "9f67e9f91c6846d0ab8a16c049f6565a",
       "version_major": 2,
       "version_minor": 0
      },
      "text/plain": [
       "Training epoch 40:   0%|          | 0/1000 [00:00<?, ?it/s]"
      ]
     },
     "metadata": {},
     "output_type": "display_data"
    },
    {
     "data": {
      "application/vnd.jupyter.widget-view+json": {
       "model_id": "0ef291b9b4304588a4dc7a19cb48dded",
       "version_major": 2,
       "version_minor": 0
      },
      "text/plain": [
       "Training epoch 41:   0%|          | 0/1000 [00:00<?, ?it/s]"
      ]
     },
     "metadata": {},
     "output_type": "display_data"
    },
    {
     "data": {
      "application/vnd.jupyter.widget-view+json": {
       "model_id": "70d4827cce484fc68afd4920082e5f03",
       "version_major": 2,
       "version_minor": 0
      },
      "text/plain": [
       "Training epoch 42:   0%|          | 0/1000 [00:00<?, ?it/s]"
      ]
     },
     "metadata": {},
     "output_type": "display_data"
    },
    {
     "data": {
      "application/vnd.jupyter.widget-view+json": {
       "model_id": "2f2c0d86aad64a308ecadb6a876cf4d9",
       "version_major": 2,
       "version_minor": 0
      },
      "text/plain": [
       "Training epoch 43:   0%|          | 0/1000 [00:00<?, ?it/s]"
      ]
     },
     "metadata": {},
     "output_type": "display_data"
    },
    {
     "data": {
      "application/vnd.jupyter.widget-view+json": {
       "model_id": "260117053e364f569d515a26d75e5d0e",
       "version_major": 2,
       "version_minor": 0
      },
      "text/plain": [
       "Training epoch 44:   0%|          | 0/1000 [00:00<?, ?it/s]"
      ]
     },
     "metadata": {},
     "output_type": "display_data"
    },
    {
     "data": {
      "application/vnd.jupyter.widget-view+json": {
       "model_id": "3fe8f73771594fd7b3d1c1af04be12f4",
       "version_major": 2,
       "version_minor": 0
      },
      "text/plain": [
       "Training epoch 45:   0%|          | 0/1000 [00:00<?, ?it/s]"
      ]
     },
     "metadata": {},
     "output_type": "display_data"
    },
    {
     "data": {
      "application/vnd.jupyter.widget-view+json": {
       "model_id": "40c0c6b3a8bd4b30bd68d09abc5b0b16",
       "version_major": 2,
       "version_minor": 0
      },
      "text/plain": [
       "Training epoch 46:   0%|          | 0/1000 [00:00<?, ?it/s]"
      ]
     },
     "metadata": {},
     "output_type": "display_data"
    },
    {
     "data": {
      "application/vnd.jupyter.widget-view+json": {
       "model_id": "804140f69c854eaaa3ebbf5006e803f2",
       "version_major": 2,
       "version_minor": 0
      },
      "text/plain": [
       "Training epoch 47:   0%|          | 0/1000 [00:00<?, ?it/s]"
      ]
     },
     "metadata": {},
     "output_type": "display_data"
    },
    {
     "data": {
      "application/vnd.jupyter.widget-view+json": {
       "model_id": "b4584cccbaa44659b795f5583926add3",
       "version_major": 2,
       "version_minor": 0
      },
      "text/plain": [
       "Training epoch 48:   0%|          | 0/1000 [00:00<?, ?it/s]"
      ]
     },
     "metadata": {},
     "output_type": "display_data"
    },
    {
     "data": {
      "application/vnd.jupyter.widget-view+json": {
       "model_id": "14364cc010c74e73bf3d648b37e23c40",
       "version_major": 2,
       "version_minor": 0
      },
      "text/plain": [
       "Training epoch 49:   0%|          | 0/1000 [00:00<?, ?it/s]"
      ]
     },
     "metadata": {},
     "output_type": "display_data"
    },
    {
     "data": {
      "application/vnd.jupyter.widget-view+json": {
       "model_id": "9680bc91ab6a44c594e5bad3a351ff07",
       "version_major": 2,
       "version_minor": 0
      },
      "text/plain": [
       "Training epoch 50:   0%|          | 0/1000 [00:00<?, ?it/s]"
      ]
     },
     "metadata": {},
     "output_type": "display_data"
    },
    {
     "data": {
      "application/vnd.jupyter.widget-view+json": {
       "model_id": "50d2f2001ecf4eabb6d5a0ea2371741c",
       "version_major": 2,
       "version_minor": 0
      },
      "text/plain": [
       "Training epoch 51:   0%|          | 0/1000 [00:00<?, ?it/s]"
      ]
     },
     "metadata": {},
     "output_type": "display_data"
    },
    {
     "data": {
      "application/vnd.jupyter.widget-view+json": {
       "model_id": "a1f4d6a14c5446058cddcca979d182d6",
       "version_major": 2,
       "version_minor": 0
      },
      "text/plain": [
       "Training epoch 52:   0%|          | 0/1000 [00:00<?, ?it/s]"
      ]
     },
     "metadata": {},
     "output_type": "display_data"
    },
    {
     "data": {
      "application/vnd.jupyter.widget-view+json": {
       "model_id": "a9433b6050824ab88119ad7f68ef5a15",
       "version_major": 2,
       "version_minor": 0
      },
      "text/plain": [
       "Training epoch 53:   0%|          | 0/1000 [00:00<?, ?it/s]"
      ]
     },
     "metadata": {},
     "output_type": "display_data"
    },
    {
     "data": {
      "application/vnd.jupyter.widget-view+json": {
       "model_id": "5a45142adcf149b3a156b738093e87a9",
       "version_major": 2,
       "version_minor": 0
      },
      "text/plain": [
       "Training epoch 54:   0%|          | 0/1000 [00:00<?, ?it/s]"
      ]
     },
     "metadata": {},
     "output_type": "display_data"
    },
    {
     "data": {
      "application/vnd.jupyter.widget-view+json": {
       "model_id": "9813d5ddc4c4436fbfdb0e53ea8b4690",
       "version_major": 2,
       "version_minor": 0
      },
      "text/plain": [
       "Training epoch 55:   0%|          | 0/1000 [00:00<?, ?it/s]"
      ]
     },
     "metadata": {},
     "output_type": "display_data"
    },
    {
     "data": {
      "application/vnd.jupyter.widget-view+json": {
       "model_id": "f894ad30d5ed446ab9801d0b9bf81e26",
       "version_major": 2,
       "version_minor": 0
      },
      "text/plain": [
       "Training epoch 56:   0%|          | 0/1000 [00:00<?, ?it/s]"
      ]
     },
     "metadata": {},
     "output_type": "display_data"
    },
    {
     "data": {
      "application/vnd.jupyter.widget-view+json": {
       "model_id": "a7e8e9223aa64e6ca7f452eb1d6c862a",
       "version_major": 2,
       "version_minor": 0
      },
      "text/plain": [
       "Training epoch 57:   0%|          | 0/1000 [00:00<?, ?it/s]"
      ]
     },
     "metadata": {},
     "output_type": "display_data"
    },
    {
     "data": {
      "application/vnd.jupyter.widget-view+json": {
       "model_id": "c560feaf9d054aaa8dd13c831c76b3b5",
       "version_major": 2,
       "version_minor": 0
      },
      "text/plain": [
       "Training epoch 58:   0%|          | 0/1000 [00:00<?, ?it/s]"
      ]
     },
     "metadata": {},
     "output_type": "display_data"
    },
    {
     "data": {
      "application/vnd.jupyter.widget-view+json": {
       "model_id": "a54916733d5c4acf9cf4a49eac4c2f22",
       "version_major": 2,
       "version_minor": 0
      },
      "text/plain": [
       "Training epoch 59:   0%|          | 0/1000 [00:00<?, ?it/s]"
      ]
     },
     "metadata": {},
     "output_type": "display_data"
    },
    {
     "data": {
      "application/vnd.jupyter.widget-view+json": {
       "model_id": "2b15499565f8450cb94c7c8392bff1eb",
       "version_major": 2,
       "version_minor": 0
      },
      "text/plain": [
       "Training epoch 60:   0%|          | 0/1000 [00:00<?, ?it/s]"
      ]
     },
     "metadata": {},
     "output_type": "display_data"
    },
    {
     "data": {
      "application/vnd.jupyter.widget-view+json": {
       "model_id": "6c09cf16793c4b39acbb75ddfba2c4a3",
       "version_major": 2,
       "version_minor": 0
      },
      "text/plain": [
       "Training epoch 61:   0%|          | 0/1000 [00:00<?, ?it/s]"
      ]
     },
     "metadata": {},
     "output_type": "display_data"
    },
    {
     "data": {
      "application/vnd.jupyter.widget-view+json": {
       "model_id": "3ec7051290574413821548a633f0ba4d",
       "version_major": 2,
       "version_minor": 0
      },
      "text/plain": [
       "Training epoch 62:   0%|          | 0/1000 [00:00<?, ?it/s]"
      ]
     },
     "metadata": {},
     "output_type": "display_data"
    },
    {
     "data": {
      "application/vnd.jupyter.widget-view+json": {
       "model_id": "09dddf39cf06414abb574909db2bef3a",
       "version_major": 2,
       "version_minor": 0
      },
      "text/plain": [
       "Training epoch 63:   0%|          | 0/1000 [00:00<?, ?it/s]"
      ]
     },
     "metadata": {},
     "output_type": "display_data"
    },
    {
     "data": {
      "application/vnd.jupyter.widget-view+json": {
       "model_id": "a41d6695918f4d2fadb4598b16d45765",
       "version_major": 2,
       "version_minor": 0
      },
      "text/plain": [
       "Training epoch 64:   0%|          | 0/1000 [00:00<?, ?it/s]"
      ]
     },
     "metadata": {},
     "output_type": "display_data"
    },
    {
     "data": {
      "application/vnd.jupyter.widget-view+json": {
       "model_id": "6a162b641c034db2addebe8405725c7d",
       "version_major": 2,
       "version_minor": 0
      },
      "text/plain": [
       "Training epoch 65:   0%|          | 0/1000 [00:00<?, ?it/s]"
      ]
     },
     "metadata": {},
     "output_type": "display_data"
    },
    {
     "data": {
      "application/vnd.jupyter.widget-view+json": {
       "model_id": "8388065daecb464fb4afc74198df2578",
       "version_major": 2,
       "version_minor": 0
      },
      "text/plain": [
       "Training epoch 66:   0%|          | 0/1000 [00:00<?, ?it/s]"
      ]
     },
     "metadata": {},
     "output_type": "display_data"
    },
    {
     "data": {
      "application/vnd.jupyter.widget-view+json": {
       "model_id": "266abb7e080d4be4bd96f2e997de961f",
       "version_major": 2,
       "version_minor": 0
      },
      "text/plain": [
       "Training epoch 67:   0%|          | 0/1000 [00:00<?, ?it/s]"
      ]
     },
     "metadata": {},
     "output_type": "display_data"
    },
    {
     "data": {
      "application/vnd.jupyter.widget-view+json": {
       "model_id": "8c1bd824d6184210893689af96a16107",
       "version_major": 2,
       "version_minor": 0
      },
      "text/plain": [
       "Training epoch 68:   0%|          | 0/1000 [00:00<?, ?it/s]"
      ]
     },
     "metadata": {},
     "output_type": "display_data"
    },
    {
     "data": {
      "application/vnd.jupyter.widget-view+json": {
       "model_id": "fbaf7c601b7544aa9d01022e09530ceb",
       "version_major": 2,
       "version_minor": 0
      },
      "text/plain": [
       "Training epoch 69:   0%|          | 0/1000 [00:00<?, ?it/s]"
      ]
     },
     "metadata": {},
     "output_type": "display_data"
    },
    {
     "data": {
      "application/vnd.jupyter.widget-view+json": {
       "model_id": "912a09e366734cf79cd840259f681ae4",
       "version_major": 2,
       "version_minor": 0
      },
      "text/plain": [
       "Training epoch 70:   0%|          | 0/1000 [00:00<?, ?it/s]"
      ]
     },
     "metadata": {},
     "output_type": "display_data"
    },
    {
     "data": {
      "application/vnd.jupyter.widget-view+json": {
       "model_id": "fab42c0aa2a74611809a3a976c526ba7",
       "version_major": 2,
       "version_minor": 0
      },
      "text/plain": [
       "Training epoch 71:   0%|          | 0/1000 [00:00<?, ?it/s]"
      ]
     },
     "metadata": {},
     "output_type": "display_data"
    },
    {
     "data": {
      "application/vnd.jupyter.widget-view+json": {
       "model_id": "3282014a243b44d190f2da1da542c8fa",
       "version_major": 2,
       "version_minor": 0
      },
      "text/plain": [
       "Training epoch 72:   0%|          | 0/1000 [00:00<?, ?it/s]"
      ]
     },
     "metadata": {},
     "output_type": "display_data"
    },
    {
     "data": {
      "application/vnd.jupyter.widget-view+json": {
       "model_id": "78c528041d3746da88173568a9adf459",
       "version_major": 2,
       "version_minor": 0
      },
      "text/plain": [
       "Training epoch 73:   0%|          | 0/1000 [00:00<?, ?it/s]"
      ]
     },
     "metadata": {},
     "output_type": "display_data"
    },
    {
     "data": {
      "application/vnd.jupyter.widget-view+json": {
       "model_id": "a1aaef9fa9df480dbdcb41844196d08f",
       "version_major": 2,
       "version_minor": 0
      },
      "text/plain": [
       "Training epoch 74:   0%|          | 0/1000 [00:00<?, ?it/s]"
      ]
     },
     "metadata": {},
     "output_type": "display_data"
    },
    {
     "data": {
      "application/vnd.jupyter.widget-view+json": {
       "model_id": "64c0a29cd61a448faa7f198ae8856755",
       "version_major": 2,
       "version_minor": 0
      },
      "text/plain": [
       "Training epoch 75:   0%|          | 0/1000 [00:00<?, ?it/s]"
      ]
     },
     "metadata": {},
     "output_type": "display_data"
    },
    {
     "data": {
      "application/vnd.jupyter.widget-view+json": {
       "model_id": "18c22dd837b043c39fa117c70bce589b",
       "version_major": 2,
       "version_minor": 0
      },
      "text/plain": [
       "Training epoch 76:   0%|          | 0/1000 [00:00<?, ?it/s]"
      ]
     },
     "metadata": {},
     "output_type": "display_data"
    },
    {
     "data": {
      "application/vnd.jupyter.widget-view+json": {
       "model_id": "e29c7ef6216e45728606ae4abb4f1893",
       "version_major": 2,
       "version_minor": 0
      },
      "text/plain": [
       "Training epoch 77:   0%|          | 0/1000 [00:00<?, ?it/s]"
      ]
     },
     "metadata": {},
     "output_type": "display_data"
    },
    {
     "data": {
      "application/vnd.jupyter.widget-view+json": {
       "model_id": "ca5e337489bf41bba8406a5f1e4d8c16",
       "version_major": 2,
       "version_minor": 0
      },
      "text/plain": [
       "Training epoch 78:   0%|          | 0/1000 [00:00<?, ?it/s]"
      ]
     },
     "metadata": {},
     "output_type": "display_data"
    },
    {
     "data": {
      "application/vnd.jupyter.widget-view+json": {
       "model_id": "6354926b0aa74cb1852e32a178bcdb1f",
       "version_major": 2,
       "version_minor": 0
      },
      "text/plain": [
       "Training epoch 79:   0%|          | 0/1000 [00:00<?, ?it/s]"
      ]
     },
     "metadata": {},
     "output_type": "display_data"
    },
    {
     "data": {
      "application/vnd.jupyter.widget-view+json": {
       "model_id": "8addc7b836bb4abe90a5196c9baa6607",
       "version_major": 2,
       "version_minor": 0
      },
      "text/plain": [
       "Training epoch 80:   0%|          | 0/1000 [00:00<?, ?it/s]"
      ]
     },
     "metadata": {},
     "output_type": "display_data"
    },
    {
     "data": {
      "application/vnd.jupyter.widget-view+json": {
       "model_id": "8ccd2b3040974ebb9c62f3e4862d2a4e",
       "version_major": 2,
       "version_minor": 0
      },
      "text/plain": [
       "Training epoch 81:   0%|          | 0/1000 [00:00<?, ?it/s]"
      ]
     },
     "metadata": {},
     "output_type": "display_data"
    },
    {
     "data": {
      "application/vnd.jupyter.widget-view+json": {
       "model_id": "ee7d4f977b7045a4bedd4d00f3b4d69b",
       "version_major": 2,
       "version_minor": 0
      },
      "text/plain": [
       "Training epoch 82:   0%|          | 0/1000 [00:00<?, ?it/s]"
      ]
     },
     "metadata": {},
     "output_type": "display_data"
    },
    {
     "data": {
      "application/vnd.jupyter.widget-view+json": {
       "model_id": "0c3489ae822045f3a35494a18addeddf",
       "version_major": 2,
       "version_minor": 0
      },
      "text/plain": [
       "Training epoch 83:   0%|          | 0/1000 [00:00<?, ?it/s]"
      ]
     },
     "metadata": {},
     "output_type": "display_data"
    },
    {
     "data": {
      "application/vnd.jupyter.widget-view+json": {
       "model_id": "a176059d58a04f3e9afd99fc667b9b1a",
       "version_major": 2,
       "version_minor": 0
      },
      "text/plain": [
       "Training epoch 84:   0%|          | 0/1000 [00:00<?, ?it/s]"
      ]
     },
     "metadata": {},
     "output_type": "display_data"
    },
    {
     "data": {
      "application/vnd.jupyter.widget-view+json": {
       "model_id": "add9abad39584a568c7fe1ef7c017cc6",
       "version_major": 2,
       "version_minor": 0
      },
      "text/plain": [
       "Training epoch 85:   0%|          | 0/1000 [00:00<?, ?it/s]"
      ]
     },
     "metadata": {},
     "output_type": "display_data"
    },
    {
     "data": {
      "application/vnd.jupyter.widget-view+json": {
       "model_id": "be27cfea52f44161a0b2391985ac6f54",
       "version_major": 2,
       "version_minor": 0
      },
      "text/plain": [
       "Training epoch 86:   0%|          | 0/1000 [00:00<?, ?it/s]"
      ]
     },
     "metadata": {},
     "output_type": "display_data"
    },
    {
     "data": {
      "application/vnd.jupyter.widget-view+json": {
       "model_id": "e1b6663ad81c440786bba1ab7ca43c27",
       "version_major": 2,
       "version_minor": 0
      },
      "text/plain": [
       "Training epoch 87:   0%|          | 0/1000 [00:00<?, ?it/s]"
      ]
     },
     "metadata": {},
     "output_type": "display_data"
    },
    {
     "data": {
      "application/vnd.jupyter.widget-view+json": {
       "model_id": "5ba1a75d5f8a46d4902f075a27dfdfb3",
       "version_major": 2,
       "version_minor": 0
      },
      "text/plain": [
       "Training epoch 88:   0%|          | 0/1000 [00:00<?, ?it/s]"
      ]
     },
     "metadata": {},
     "output_type": "display_data"
    },
    {
     "data": {
      "application/vnd.jupyter.widget-view+json": {
       "model_id": "372fe2be7a454e4d9db8e8296cb36dd8",
       "version_major": 2,
       "version_minor": 0
      },
      "text/plain": [
       "Training epoch 89:   0%|          | 0/1000 [00:00<?, ?it/s]"
      ]
     },
     "metadata": {},
     "output_type": "display_data"
    },
    {
     "data": {
      "application/vnd.jupyter.widget-view+json": {
       "model_id": "5229dc5a817746d2b9f6b4893129a50c",
       "version_major": 2,
       "version_minor": 0
      },
      "text/plain": [
       "Training epoch 90:   0%|          | 0/1000 [00:00<?, ?it/s]"
      ]
     },
     "metadata": {},
     "output_type": "display_data"
    },
    {
     "data": {
      "application/vnd.jupyter.widget-view+json": {
       "model_id": "53d66fb946604c13b370501f92007ee2",
       "version_major": 2,
       "version_minor": 0
      },
      "text/plain": [
       "Training epoch 91:   0%|          | 0/1000 [00:00<?, ?it/s]"
      ]
     },
     "metadata": {},
     "output_type": "display_data"
    },
    {
     "data": {
      "application/vnd.jupyter.widget-view+json": {
       "model_id": "8b4bdf7240cd44aca0c0d15fbca03436",
       "version_major": 2,
       "version_minor": 0
      },
      "text/plain": [
       "Training epoch 92:   0%|          | 0/1000 [00:00<?, ?it/s]"
      ]
     },
     "metadata": {},
     "output_type": "display_data"
    },
    {
     "data": {
      "application/vnd.jupyter.widget-view+json": {
       "model_id": "dff6c460ea484c6b98cba922d6e5142e",
       "version_major": 2,
       "version_minor": 0
      },
      "text/plain": [
       "Training epoch 93:   0%|          | 0/1000 [00:00<?, ?it/s]"
      ]
     },
     "metadata": {},
     "output_type": "display_data"
    },
    {
     "data": {
      "application/vnd.jupyter.widget-view+json": {
       "model_id": "dbfbb2a031884e06b9a658b6c60f8f8b",
       "version_major": 2,
       "version_minor": 0
      },
      "text/plain": [
       "Training epoch 94:   0%|          | 0/1000 [00:00<?, ?it/s]"
      ]
     },
     "metadata": {},
     "output_type": "display_data"
    },
    {
     "data": {
      "application/vnd.jupyter.widget-view+json": {
       "model_id": "47025613e7c6476cafe2492484625b04",
       "version_major": 2,
       "version_minor": 0
      },
      "text/plain": [
       "Training epoch 95:   0%|          | 0/1000 [00:00<?, ?it/s]"
      ]
     },
     "metadata": {},
     "output_type": "display_data"
    },
    {
     "data": {
      "application/vnd.jupyter.widget-view+json": {
       "model_id": "ba9e30c8f0fa49b9a3ce83705437624d",
       "version_major": 2,
       "version_minor": 0
      },
      "text/plain": [
       "Training epoch 96:   0%|          | 0/1000 [00:00<?, ?it/s]"
      ]
     },
     "metadata": {},
     "output_type": "display_data"
    },
    {
     "data": {
      "application/vnd.jupyter.widget-view+json": {
       "model_id": "112395fc43ed4dc6bdc581c475085519",
       "version_major": 2,
       "version_minor": 0
      },
      "text/plain": [
       "Training epoch 97:   0%|          | 0/1000 [00:00<?, ?it/s]"
      ]
     },
     "metadata": {},
     "output_type": "display_data"
    },
    {
     "data": {
      "application/vnd.jupyter.widget-view+json": {
       "model_id": "17ebf9a4d4ab406c82daa27adb997ab7",
       "version_major": 2,
       "version_minor": 0
      },
      "text/plain": [
       "Training epoch 98:   0%|          | 0/1000 [00:00<?, ?it/s]"
      ]
     },
     "metadata": {},
     "output_type": "display_data"
    },
    {
     "data": {
      "application/vnd.jupyter.widget-view+json": {
       "model_id": "8910b555258443f198c266fe187fc5a2",
       "version_major": 2,
       "version_minor": 0
      },
      "text/plain": [
       "Training epoch 99:   0%|          | 0/1000 [00:00<?, ?it/s]"
      ]
     },
     "metadata": {},
     "output_type": "display_data"
    },
    {
     "data": {
      "application/vnd.jupyter.widget-view+json": {
       "model_id": "c377e951437d494fb4c2825b4ea5eb77",
       "version_major": 2,
       "version_minor": 0
      },
      "text/plain": [
       "Training epoch 100:   0%|          | 0/1000 [00:00<?, ?it/s]"
      ]
     },
     "metadata": {},
     "output_type": "display_data"
    },
    {
     "name": "stdout",
     "output_type": "stream",
     "text": [
      "Wall time: 8h 33min 56s\n"
     ]
    }
   ],
   "source": [
    "%%time\n",
    "\n",
    "for ep in range(1, epochs+1):\n",
    "        with tqdm(total=iterations_per_epoch, desc='Training epoch {}'.format(ep)) as p_bar:\n",
    "            losses = train_online_ml(model, optimizer, simulate_model, iterations_per_epoch, \n",
    "                                    batch_size, p_bar, clip_value=clip_value, \n",
    "                                    global_step=global_step, transform=add_noise_var)\n",
    "\n",
    "            # Store checkpoint\n",
    "            manager.save()\n",
    "            \n",
    "\n",
    "    \n",
    "        \n",
    "        "
   ]
  },
  {
   "cell_type": "markdown",
   "metadata": {},
   "source": [
    "## Evaluate the trained model"
   ]
  },
  {
   "cell_type": "markdown",
   "metadata": {},
   "source": [
    "### Posterior means (recovery)"
   ]
  },
  {
   "cell_type": "code",
   "execution_count": 41,
   "metadata": {},
   "outputs": [
    {
     "data": {
      "image/png": "[encoded data removed]",
      "text/plain": [
       "<Figure size 720x216 with 5 Axes>"
      ]
     },
     "metadata": {
      "needs_background": "light"
     },
     "output_type": "display_data"
    }
   ],
   "source": [
    "plot_true_est_scatter(model, X_test, theta_test, n_samples_posterior, param_names[:5], \n",
    "                      figsize=(10, 3), filename='Model')"
   ]
  },
  {
   "cell_type": "markdown",
   "metadata": {},
   "source": [
    "Load the observed battery capacity data"
   ]
  },
  {
   "cell_type": "code",
   "execution_count": 61,
   "metadata": {},
   "outputs": [
    {
     "data": {
      "image/png": "[encoded data removed]",
      "text/plain": [
       "<Figure size 432x288 with 1 Axes>"
      ]
     },
     "metadata": {
      "needs_background": "light"
     },
     "output_type": "display_data"
    }
   ],
   "source": [
    "def load_battery(filename):\n",
    "    # data is stored as a hierarchy of structs\n",
    "    # we load with `squeeze_me` to simplify things a little\n",
    "    data = loadmat(filename, squeeze_me=True)\n",
    "\n",
    "    # the root variable is the name of the battery set\n",
    "    # the next key is `cycle`\n",
    "    # `squeeze_me` ends up with a 0-dim array somehow\n",
    "    # so we index with and empty tuple to get the data\n",
    "    events = data[list(data.keys())[-1]][\"cycle\"][()]\n",
    "\n",
    "    # only the discharge events have the capacity data\n",
    "    discharge_capacities = [\n",
    "        e[\"data\"][\"Capacity\"][()] for e in events if e[\"type\"] == \"discharge\"\n",
    "    ]\n",
    "\n",
    "    # convert it back to an np.array\n",
    "    discharge_capacities = np.array(discharge_capacities)\n",
    "    # convert capacity to percentage\n",
    "    discharge_capacities /= discharge_capacities[0]\n",
    "    return discharge_capacities\n",
    "\n",
    "\n",
    "filename1 = r\"C:\\Users\\lra240\\Desktop\\2-Summer research 2022\\6-Data\\BatteryAgingARC-FY08Q4\\B0005.mat\"\n",
    "filename2 = r\"C:\\Users\\lra240\\Desktop\\2-Summer research 2022\\6-Data\\BatteryAgingARC-FY08Q4\\B0006.mat\"\n",
    "filename3 = r\"C:\\Users\\lra240\\Desktop\\2-Summer research 2022\\6-Data\\BatteryAgingARC-FY08Q4\\B0007.mat\"\n",
    "filename4 = r\"C:\\Users\\lra240\\Desktop\\2-Summer research 2022\\6-Data\\BatteryAgingARC-FY08Q4\\B0018.mat\"\n",
    "\n",
    "\n",
    "data1 = load_battery(filename1)\n",
    "data2 = load_battery(filename2)\n",
    "data3 = load_battery(filename3)\n",
    "data4 = load_battery(filename4)\n",
    "\n",
    "\n",
    "plt.plot(data1, label='Battery-5')\n",
    "plt.plot(data2, label='Battery-6')\n",
    "plt.plot(data3, label='Battery-7')\n",
    "plt.plot(data4, label='Battery-18')\n",
    "plt.title(\"NASA lithium-ion battery dataset\")\n",
    "plt.xlabel('Cycle')\n",
    "plt.ylabel('Capacity(Normalized)')\n",
    "plt.legend()\n",
    "plt.grid()\n",
    "plt.show()\n",
    "\n",
    "\n",
    "#tf.convert_to_tensor(X[:, :], dtype=tf.float32)"
   ]
  },
  {
   "cell_type": "code",
   "execution_count": 434,
   "metadata": {},
   "outputs": [
    {
     "name": "stdout",
     "output_type": "stream",
     "text": [
      "(100, 132, 5)\n"
     ]
    }
   ],
   "source": [
    "data = torch.tensor(data4, dtype=torch.float64)\n",
    "\n",
    "#parameter definition\n",
    "N_Cuts = 100\n",
    "noise_std = 0.001\n",
    "n_samples = 100\n",
    "\n",
    "#get the output smaples of posterior\n",
    "p_aproximate = model.sample( data, n_samples, to_numpy=True, training=False)\n",
    "\n",
    "\n",
    "print(p_aproximate.shape)"
   ]
  },
  {
   "cell_type": "code",
   "execution_count": 388,
   "metadata": {},
   "outputs": [
    {
     "data": {
      "text/plain": [
       "'\\n#Predict the model for one sample\\n#C\\nimport argparse\\nimport json\\nimport numpy as np\\nimport os\\nimport pyro\\nimport pyro.distributions as dist\\nimport torch\\nfrom dataset import load_battery\\nimport time\\n\\n# title MCMC Batch Training w/ Regen\\npyro.set_rng_seed(1)\\n\\n\\ndef model_predict(data,N_Cuts,p_aproximate,noise_std):\\n    predRange = np.arange(N_Cuts,len(data),1) \\n    state_history = torch.zeros((len(predRange),))\\n    measurement_history = torch.zeros((len(predRange),))\\n    j = 0\\n\\n    for i in predRange:\\n        param_a = torch.tensor(p_aproximate[:,i,0], dtype=torch.float64)\\n        param_b = torch.tensor(p_aproximate[:,i,1], dtype=torch.float64)\\n        poisson_rate = torch.tensor(p_aproximate[:,i,2], dtype=torch.float64)\\n        #poisson_rate_int = poisson_rate.item()\\n        regen_gamma_beta = torch.tensor(p_aproximate[:,i,4], dtype=torch.float64)\\n        regen_gamma_mu = torch.tensor(p_aproximate[:,i,3], dtype=torch.float64)\\n        Ri = np.random.gamma(regen_gamma_beta.item(), regen_gamma_mu.item())\\n        \\n        if i == N_Cuts: #\\n            x_prediction = torch.tensor(data[N_Cuts-1])\\n        elif i % round(1 / poisson_rate.item()) == 0 and round(1 / poisson_rate.item()) != 0 :\\n            x_prediction = (state_history[j - 1]- (param_a * param_b * i) / (10000 + (param_b * i) ** 2) + Ri)\\n            #print(i)\\n            #print(\\'Spike\\')\\n            #print(Ri)     \\n        else:\\n            x_prediction = state_history[j - 1] - (param_a * param_b * i) / (10000 + (param_b * i) ** 2)\\n            \\n        next_observed = pyro.sample(f\"meas_{j}\", dist.Normal(x_prediction, torch.tensor(noise_std)))\\n\\n        state_history[j] = x_prediction\\n        measurement_history[j] = next_observed\\n        j +=1\\n    return predRange, state_history, measurement_history \\n'"
      ]
     },
     "execution_count": 388,
     "metadata": {},
     "output_type": "execute_result"
    }
   ],
   "source": [
    "'''\n",
    "#Predict the model for one sample\n",
    "#C\n",
    "import argparse\n",
    "import json\n",
    "import numpy as np\n",
    "import os\n",
    "import pyro\n",
    "import pyro.distributions as dist\n",
    "import torch\n",
    "from dataset import load_battery\n",
    "import time\n",
    "\n",
    "# title MCMC Batch Training w/ Regen\n",
    "pyro.set_rng_seed(1)\n",
    "\n",
    "\n",
    "def model_predict(data,N_Cuts,p_aproximate,noise_std):\n",
    "    predRange = np.arange(N_Cuts,len(data),1) \n",
    "    state_history = torch.zeros((len(predRange),))\n",
    "    measurement_history = torch.zeros((len(predRange),))\n",
    "    j = 0\n",
    "\n",
    "    for i in predRange:\n",
    "        param_a = torch.tensor(p_aproximate[:,i,0], dtype=torch.float64)\n",
    "        param_b = torch.tensor(p_aproximate[:,i,1], dtype=torch.float64)\n",
    "        poisson_rate = torch.tensor(p_aproximate[:,i,2], dtype=torch.float64)\n",
    "        #poisson_rate_int = poisson_rate.item()\n",
    "        regen_gamma_beta = torch.tensor(p_aproximate[:,i,4], dtype=torch.float64)\n",
    "        regen_gamma_mu = torch.tensor(p_aproximate[:,i,3], dtype=torch.float64)\n",
    "        Ri = np.random.gamma(regen_gamma_beta.item(), regen_gamma_mu.item())\n",
    "        \n",
    "        if i == N_Cuts: #\n",
    "            x_prediction = torch.tensor(data[N_Cuts-1])\n",
    "        elif i % round(1 / poisson_rate.item()) == 0 and round(1 / poisson_rate.item()) != 0 :\n",
    "            x_prediction = (state_history[j - 1]- (param_a * param_b * i) / (10000 + (param_b * i) ** 2) + Ri)\n",
    "            #print(i)\n",
    "            #print('Spike')\n",
    "            #print(Ri)     \n",
    "        else:\n",
    "            x_prediction = state_history[j - 1] - (param_a * param_b * i) / (10000 + (param_b * i) ** 2)\n",
    "            \n",
    "        next_observed = pyro.sample(f\"meas_{j}\", dist.Normal(x_prediction, torch.tensor(noise_std)))\n",
    "\n",
    "        state_history[j] = x_prediction\n",
    "        measurement_history[j] = next_observed\n",
    "        j +=1\n",
    "    return predRange, state_history, measurement_history \n",
    "'''"
   ]
  },
  {
   "cell_type": "code",
   "execution_count": 423,
   "metadata": {},
   "outputs": [],
   "source": [
    "def RMSE(predictions, targets):\n",
    "    return np.sqrt(np.mean((predictions.numpy()-targets.numpy())**2)) "
   ]
  },
  {
   "cell_type": "code",
   "execution_count": 436,
   "metadata": {},
   "outputs": [
    {
     "name": "stdout",
     "output_type": "stream",
     "text": [
      "68\n",
      "32\n",
      "32\n",
      "32\n"
     ]
    }
   ],
   "source": [
    "print(len(measurement_history))\n",
    "print(len(np.arange(N_Cuts,len(data),1)))\n",
    "print(len(data[N_Cuts:len(data)]))\n",
    "predRange = np.arange(N_Cuts,len(data),1) \n",
    "print(len(predRange))"
   ]
  },
  {
   "cell_type": "code",
   "execution_count": 437,
   "metadata": {},
   "outputs": [],
   "source": [
    "#Predict the model for n_samples\n",
    "\n",
    "import argparse\n",
    "import json\n",
    "import numpy as np\n",
    "import os\n",
    "import pyro\n",
    "import pyro.distributions as dist\n",
    "import torch\n",
    "from dataset import load_battery\n",
    "import time\n",
    "\n",
    "# title MCMC Batch Training w/ Regen\n",
    "pyro.set_rng_seed(1)\n",
    "\n",
    "\n",
    "def model_predict(data,N_Cuts,p_aproximate,noise_std):\n",
    "    predRange = np.arange(N_Cuts,len(data),1) \n",
    "    state_history = torch.zeros((len(predRange),n_samples))   \n",
    "    measurement_history = torch.zeros((len(predRange),n_samples))   \n",
    "    j = 0 # counter\n",
    "\n",
    "    for i in predRange:\n",
    "        for s in range(n_samples): #s - counter\n",
    "            param_a = torch.tensor(p_aproximate[s,i,0], dtype=torch.float64)\n",
    "            param_b = torch.tensor(p_aproximate[s,i,1], dtype=torch.float64)*1.5 # %%%%%%%%%%%%%%%%%%%%%%%%%%%%%%%%\n",
    "            poisson_rate = torch.tensor(p_aproximate[s,i,2], dtype=torch.float64)\n",
    "            #poisson_rate_int = poisson_rate.item()\n",
    "            regen_gamma_beta = torch.tensor(p_aproximate[s,i,4], dtype=torch.float64)*0.2 # %%%%%%%%%%%%%%%%%%%%%%%%%%%%%%%%\n",
    "            regen_gamma_mu = torch.tensor(p_aproximate[s,i,3], dtype=torch.float64)*0.6 # %%%%%%%%%%%%%%%%%%%%%%%%%%%%%%%%\n",
    "            Ri = np.random.gamma(regen_gamma_beta.item(), np.absolute(regen_gamma_mu.item())) # %%%%%%%%%%%%%%%%%%%%%%%%%%%%%%%%\n",
    "            #Ri = 0\n",
    "            \n",
    "            if i == N_Cuts: \n",
    "                x_prediction = torch.tensor(data[N_Cuts-1])\n",
    "            elif i % round(1 / poisson_rate.item()) == 0 and round(1 / poisson_rate.item()) != 0 :\n",
    "                x_prediction = (state_history[j - 1, s]- (param_a * param_b * i) / (10000 + (param_b * i) ** 2) + Ri)\n",
    "                #print(i)\n",
    "                #print('Spike')\n",
    "                #print(Ri)     \n",
    "            else:\n",
    "                x_prediction = state_history[j - 1, s] - (param_a * param_b * i) / (10000 + (param_b * i) ** 2)\n",
    "                \n",
    "            next_observed = pyro.sample(f\"meas_{j}\", dist.Normal(x_prediction, torch.tensor(noise_std)))\n",
    "\n",
    "            state_history[j,s] = x_prediction\n",
    "            measurement_history[j,s] = next_observed\n",
    "        j +=1\n",
    "    return predRange, state_history, measurement_history "
   ]
  },
  {
   "cell_type": "code",
   "execution_count": 445,
   "metadata": {},
   "outputs": [
    {
     "name": "stderr",
     "output_type": "stream",
     "text": [
      "C:\\Users\\lra240\\AppData\\Local\\Temp/ipykernel_27444/4162014718.py:35: UserWarning: To copy construct from a tensor, it is recommended to use sourceTensor.clone().detach() or sourceTensor.clone().detach().requires_grad_(True), rather than torch.tensor(sourceTensor).\n",
      "  x_prediction = torch.tensor(data[N_Cuts-1])\n"
     ]
    },
    {
     "name": "stdout",
     "output_type": "stream",
     "text": [
      "(32,)\n"
     ]
    },
    {
     "data": {
      "image/png": "[encoded data removed]",
      "text/plain": [
       "<Figure size 1440x360 with 1 Axes>"
      ]
     },
     "metadata": {
      "needs_background": "light"
     },
     "output_type": "display_data"
    },
    {
     "name": "stdout",
     "output_type": "stream",
     "text": [
      "RMSE of tracking:   0.04104018204932098\n"
     ]
    }
   ],
   "source": [
    "#traking\n",
    "predRange, state_history, measurement_history = model_predict(data, N_Cuts, p_aproximate, noise_std)\n",
    "\n",
    "state_history_mean = tf.reduce_mean(state_history, 1)\n",
    "measurement_history_mean = tf.reduce_mean(measurement_history, 1)\n",
    "measurement_history_10p = np.percentile( measurement_history.numpy(), 10, 1)\n",
    "measurement_history_25p = np.percentile( measurement_history.numpy(), 25, 1)\n",
    "measurement_history_75p = np.percentile( measurement_history.numpy(), 75, 1)\n",
    "measurement_history_90p = np.percentile( measurement_history.numpy(), 90, 1)\n",
    "\n",
    "print(measurement_history_75p.shape)\n",
    "\n",
    "plt.figure(figsize=(20,5))\n",
    "plt.axvline(x = N_Cuts,color = 'g')\n",
    "for s in range(n_samples):\n",
    "    plt.plot(predRange, measurement_history[:, s], color=[0.8,0.8,0.8], marker ='.') # the prediction\n",
    "plt.plot(np.arange(len(data)),data,color='b', marker ='.',label='Actual')\n",
    "plt.plot(predRange, measurement_history_mean, 'r', marker ='.',label='Mean') # the prediction\n",
    "plt.plot(predRange, measurement_history_10p, 'c', marker ='.',label='10 Percentile') # the prediction\n",
    "plt.plot(predRange, measurement_history_90p, 'm', marker ='.',label='90 Percentile') # the prediction\n",
    "\n",
    "plt.title(\"Tracking and prediction:Battery-18\")\n",
    "plt.xlabel('Cycle ')\n",
    "plt.ylabel('Normalized Capacity')\n",
    "plt.legend()\n",
    "#plt.figure(figsize=(100, 100))\n",
    "plt.grid()\n",
    "plt.show()\n",
    "\n",
    "print(f'RMSE of tracking:   {RMSE(measurement_history_mean, data[N_Cuts:len(data)])}')\n"
   ]
  }
 ],
 "metadata": {
  "interpreter": {
   "hash": "d6a56fe9d1c4e9b0c2faaaba6a8fd3f266e3110524a26119d3f06403b30aee02"
  },
  "kernelspec": {
   "display_name": "Python 3.9.7 ('base')",
   "language": "python",
   "name": "python3"
  },
  "language_info": {
   "codemirror_mode": {
    "name": "ipython",
    "version": 3
   },
   "file_extension": ".py",
   "mimetype": "text/x-python",
   "name": "python",
   "nbconvert_exporter": "python",
   "pygments_lexer": "ipython3",
   "version": "3.9.7"
  },
  "toc": {
   "base_numbering": 1,
   "nav_menu": {},
   "number_sections": true,
   "sideBar": true,
   "skip_h1_title": false,
   "title_cell": "Table of Contents",
   "title_sidebar": "Contents",
   "toc_cell": false,
   "toc_position": {
    "height": "calc(100% - 180px)",
    "left": "10px",
    "top": "150px",
    "width": "195.6px"
   },
   "toc_section_display": true,
   "toc_window_display": true
  }
 },
 "nbformat": 4,
 "nbformat_minor": 2
}
