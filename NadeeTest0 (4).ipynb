{
 "cells": [
  {
   "cell_type": "code",
   "execution_count": 1,
   "id": "38e759c7",
   "metadata": {},
   "outputs": [],
   "source": [
    "import numpy as np"
   ]
  },
  {
   "cell_type": "code",
   "execution_count": 2,
   "id": "f4e93d69",
   "metadata": {},
   "outputs": [],
   "source": [
    "def simulated_model_single(n_point, parameter):\n",
    "    Y = np.zeros(n_point)\n",
    "    for i in range(n_point):\n",
    "        Y[i] = 2*i*parameter\n",
    "    return Y"
   ]
  },
  {
   "cell_type": "code",
   "execution_count": 3,
   "id": "638902c4",
   "metadata": {
    "scrolled": false
   },
   "outputs": [
    {
     "name": "stdout",
     "output_type": "stream",
     "text": [
      "Hello Lakmali\n"
     ]
    }
   ],
   "source": [
    "print('Hello Lakmali')"
   ]
  },
  {
   "cell_type": "code",
   "execution_count": 4,
   "id": "7bda779f",
   "metadata": {},
   "outputs": [],
   "source": [
    "def simulated_model_batch(X, n_point, parameter):\n",
    "    X = simulated_model_single(n_point, parameter)\n",
    "    return X\n"
   ]
  },
  {
   "cell_type": "code",
   "execution_count": 5,
   "id": "3e4c9c3d",
   "metadata": {},
   "outputs": [],
   "source": [
    "\n",
    "def simulated_model(parameter = 10):\n",
    "    n_point = 5\n",
    "    X = np.zeros(n_point)    \n",
    "    X = simulated_model_batch(X, n_point, parameter)    \n",
    "    return X"
   ]
  },
  {
   "cell_type": "code",
   "execution_count": 6,
   "id": "1d268e65",
   "metadata": {},
   "outputs": [
    {
     "name": "stdout",
     "output_type": "stream",
     "text": [
      "[ 0. 20. 40. 60. 80.]\n"
     ]
    }
   ],
   "source": [
    "Z = simulated_model()\n",
    "print(Z)"
   ]
  },
  {
   "cell_type": "code",
   "execution_count": 7,
   "id": "b5a036d4",
   "metadata": {},
   "outputs": [
    {
     "name": "stdout",
     "output_type": "stream",
     "text": [
      "[ 5 10 15 20]\n",
      "[[ 0  2  3  4]\n",
      " [ 0 10 15 20]\n",
      " [ 0 20 30 40]]\n"
     ]
    }
   ],
   "source": [
    "\n",
    "a = np.array([[1, 2, 3, 4], [ 5, 10, 15, 20], [ 10, 20, 30, 40]])\n",
    "print(a[1][:])\n",
    "for i in range(3):\n",
    "    a[i][0]=0\n",
    "print(a)\n"
   ]
  },
  {
   "cell_type": "code",
   "execution_count": 8,
   "id": "ba2505a5",
   "metadata": {},
   "outputs": [
    {
     "data": {
      "image/png": "[encoded data removed]",
      "text/plain": [
       "<Figure size 432x288 with 1 Axes>"
      ]
     },
     "metadata": {
      "needs_background": "light"
     },
     "output_type": "display_data"
    }
   ],
   "source": [
    "import matplotlib.pyplot as plt\n",
    "plt.plot([[1, 2, 3, 4], [ 10, 20, 30, 40]])\n",
    "plt.ylabel('some numbers')\n",
    "plt.show()"
   ]
  },
  {
   "cell_type": "code",
   "execution_count": 9,
   "id": "c174f24f",
   "metadata": {},
   "outputs": [],
   "source": [
    "def simulate_model_single(t_obs, alpha, beta, Lambda, s, Theta):\n",
    "    \"\"\"\n",
    "    Simulate a dataset from the model\n",
    "    describing dynamics of the number of individuals over time.\n",
    "\n",
    "    Arguments:\n",
    "    t_obs   : int -- length of the observed time-series\n",
    "    alpha   : float -- the alpha parameter of the CustomModel model\n",
    "    beta    : float -- the beta parameter of the CustomModel model\n",
    "    Lambda  : float -- the lambda parameter of the RegenModel model\n",
    "    s       : float -- the s parameter of the RegenModel model\n",
    "    Theta   : float -- the theta parameter of the RegenModel model\n",
    "    \"\"\"\n",
    "\n",
    "    alpha = alpha if alpha >= 0 else 0\n",
    "    beta = beta if beta >= 0 else 0\n",
    "    Lambda = Lambda if Lambda > 0 else 0\n",
    "    s = s if s >= 0 else 0\n",
    "    Theta = Theta if Theta >= 0 else 0 \n",
    "\n",
    "    x = np.zeros(t_obs)\n",
    "    intNomCap = 1 # Inital Norminal Capacity\n",
    "    x0 = np.zeros(t_obs)\n",
    "    for k in range(t_obs):\n",
    "        delta = (alpha * beta * k) / ( 1e4 + (k * beta) ** 2)\n",
    "        Inv_Lambda = (1.0 / Lambda)\n",
    "        offsets = np.ones(t_obs) * np.floor( np.random.random() * Inv_Lambda)\n",
    "        intNomCap -= delta\n",
    "        x[k] = intNomCap\n",
    "        #x0[k] = 0\n",
    "        if k % Inv_Lambda == 0 and k != 0: # offsets[i]: %%%%%%%%%%%%%%%%%%%%%%%%%%%%%%%%\n",
    "            sample = np.random.uniform(0.0, 0.005)\n",
    "            x0[k] = sample\n",
    "            x[k] += x0[k]\n",
    "        if x[k] > 1:\n",
    "            x[k] = 1\n",
    "    return x, x0"
   ]
  },
  {
   "cell_type": "code",
   "execution_count": null,
   "id": "66c5ea38",
   "metadata": {},
   "outputs": [],
   "source": []
  },
  {
   "cell_type": "code",
   "execution_count": 10,
   "id": "4197ecc0",
   "metadata": {},
   "outputs": [
    {
     "name": "stdout",
     "output_type": "stream",
     "text": [
      "[[0.2        2.         1.33333333 2.         2.        ]]\n",
      "(1, 5)\n"
     ]
    }
   ],
   "source": [
    "t_obs = 15\n",
    "batch_size=1\n",
    "n_points=None\n",
    "low_alpha=0.2\n",
    "high_alpha=0.2               \n",
    "low_beta=2\n",
    "high_beta=2\n",
    "low_Lambda=4/3\n",
    "high_Lambda=4/3\n",
    "low_s=2\n",
    "high_s=2\n",
    "low_Theta=2\n",
    "high_Theta=2\n",
    "to_tensor=True\n",
    "\n",
    "theta = np.random.uniform(low=[low_alpha, low_beta, low_Lambda,low_s,low_Theta],\n",
    "                          high=[high_alpha, high_beta, high_Lambda,high_s,high_Theta], size=(batch_size, 5))\n",
    "print(theta)\n",
    "print(theta.shape)"
   ]
  },
  {
   "cell_type": "code",
   "execution_count": 16,
   "id": "c641f2b6",
   "metadata": {},
   "outputs": [
    {
     "name": "stdout",
     "output_type": "stream",
     "text": [
      "[1.         0.99996002 0.99988014 1.         0.99960159 0.99940357\n",
      " 1.         0.99889236 0.99858035 0.9985101  0.99784703 0.99742734\n",
      " 0.99775673 0.99648641 0.99596712]\n",
      "15\n",
      "[0.         0.         0.         0.00344007 0.         0.\n",
      " 0.00440269 0.         0.         0.00027845 0.         0.\n",
      " 0.00078325 0.         0.        ]\n"
     ]
    },
    {
     "data": {
      "image/png": "[encoded data removed]",
      "text/plain": [
       "<Figure size 432x288 with 1 Axes>"
      ]
     },
     "metadata": {
      "needs_background": "light"
     },
     "output_type": "display_data"
    }
   ],
   "source": [
    "i = 0\n",
    "params = theta\n",
    "X, X0 = simulate_model_single(t_obs, params[i, 0], params[i, 1], params[i, 2],params[i, 3],params[i, 4])\n",
    "print(X)\n",
    "print(X.shape[0])\n",
    "print(X0)\n",
    "plt.plot(X)\n",
    "plt.show()"
   ]
  },
  {
   "cell_type": "code",
   "execution_count": 12,
   "id": "c809df07",
   "metadata": {},
   "outputs": [],
   "source": [
    "alpha = 0.2\n",
    "beta = 3\n",
    "intVal = 1\n",
    "for k in range(t_obs):\n",
    "    delta = (alpha * beta * k) / ( 1e4 + (k * beta) ** 2)\n",
    "    intVal -= delta\n",
    "    #print(intVal)"
   ]
  },
  {
   "cell_type": "code",
   "execution_count": 13,
   "id": "925f63e2",
   "metadata": {},
   "outputs": [
    {
     "data": {
      "text/plain": [
       "7.41989799667085"
      ]
     },
     "execution_count": 13,
     "metadata": {},
     "output_type": "execute_result"
    }
   ],
   "source": [
    "np.random.gamma(2,2)"
   ]
  },
  {
   "cell_type": "code",
   "execution_count": 14,
   "id": "dd1dc3a0",
   "metadata": {},
   "outputs": [
    {
     "name": "stdout",
     "output_type": "stream",
     "text": [
      "[1. 1. 1. 1. 1. 1. 1. 1. 1. 1. 1. 1. 1. 1. 1.]\n"
     ]
    }
   ],
   "source": [
    "xxx = np.ones(t_obs)\n",
    "print(xxx)"
   ]
  },
  {
   "cell_type": "code",
   "execution_count": 15,
   "id": "e8222309",
   "metadata": {},
   "outputs": [
    {
     "data": {
      "text/plain": [
       "0.08277661230908326"
      ]
     },
     "execution_count": 15,
     "metadata": {},
     "output_type": "execute_result"
    }
   ],
   "source": [
    "np.random.uniform(0.0, 0.1)"
   ]
  },
  {
   "cell_type": "code",
   "execution_count": 19,
   "id": "04b04c74",
   "metadata": {},
   "outputs": [
    {
     "data": {
      "text/plain": [
       "1"
      ]
     },
     "execution_count": 19,
     "metadata": {},
     "output_type": "execute_result"
    }
   ],
   "source": [
    "round( 10%3)\n"
   ]
  }
 ],
 "metadata": {
  "kernelspec": {
   "display_name": "Python 3 (ipykernel)",
   "language": "python",
   "name": "python3"
  },
  "language_info": {
   "codemirror_mode": {
    "name": "ipython",
    "version": 3
   },
   "file_extension": ".py",
   "mimetype": "text/x-python",
   "name": "python",
   "nbconvert_exporter": "python",
   "pygments_lexer": "ipython3",
   "version": "3.9.12"
  }
 },
 "nbformat": 4,
 "nbformat_minor": 5
}
