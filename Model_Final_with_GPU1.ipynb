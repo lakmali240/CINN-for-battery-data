{
 "cells": [
  {
   "cell_type": "code",
   "execution_count": 1,
   "metadata": {},
   "outputs": [],
   "source": [
    "import tensorflow as tf"
   ]
  },
  {
   "cell_type": "code",
   "execution_count": 2,
   "metadata": {},
   "outputs": [
    {
     "name": "stdout",
     "output_type": "stream",
     "text": [
      "Found GPU at: /device:GPU:0\n",
      "Num GPUs Available:  1\n",
      "2.9.1\n"
     ]
    }
   ],
   "source": [
    "device_name = tf.test.gpu_device_name()\n",
    "if device_name != '/device:GPU:0':\n",
    "  raise SystemError('GPU device not found')\n",
    "print('Found GPU at: {}'.format(device_name))\n",
    "print('Num GPUs Available: ', len(tf.config.experimental.list_physical_devices(\"GPU\")))\n",
    "tf.test.is_built_with_cuda()\n",
    "print(tf.version.VERSION)"
   ]
  },
  {
   "cell_type": "code",
   "execution_count": 3,
   "metadata": {},
   "outputs": [],
   "source": [
    "from tensorflow.keras.regularizers import l2\n",
    "#import tensorflow.contrib.eager as tfe\n",
    "from tqdm import tqdm_notebook as tqdm\n",
    "import numpy as np\n",
    "import pandas as pd\n",
    "import pickle\n",
    "from scipy import stats\n",
    "import matplotlib.pyplot as plt\n",
    "from matplotlib.ticker import FormatStrFormatter\n",
    "import seaborn as sns\n",
    "np.set_printoptions(suppress=True)\n",
    "from scipy.io import loadmat\n",
    "import argparse\n",
    "import json\n",
    "import numpy as np\n",
    "import os\n",
    "\n",
    "\n",
    "\n",
    "\n",
    "from models import DeepConditionalModel\n",
    "from inn_utils import (train_online_ml, compute_performance_metrics, train_online_kl, \n",
    "                       train_online_heteroscedastic, train_online_iaf)\n",
    "from process_models import simulate_model_params, simulate_model, simulate_model_params, load_test_model\n",
    "from viz import (plot_true_est_scatter, plot_true_est_posterior, \n",
    "                 plot_losses, plot_sbc, plot_performance_metrics, plot_contraction,\n",
    "                 plot_true_est_posterior_samples)\n",
    "import diagnostics as diag"
   ]
  },
  {
   "cell_type": "code",
   "execution_count": 4,
   "metadata": {},
   "outputs": [],
   "source": [
    "tf.compat.v1.enable_eager_execution(\n",
    "    config=None, device_policy=None, execution_mode=None\n",
    ")"
   ]
  },
  {
   "cell_type": "code",
   "execution_count": 5,
   "metadata": {},
   "outputs": [],
   "source": [
    "%load_ext autoreload\n",
    "%autoreload 2"
   ]
  },
  {
   "cell_type": "markdown",
   "metadata": {},
   "source": [
    "# Conditional Invertible Neural Network (cINN)"
   ]
  },
  {
   "cell_type": "markdown",
   "metadata": {},
   "source": [
    "## Summary network for the Ricker model\n",
    "<p>We use an LSTM for the observed time-series data.</p>"
   ]
  },
  {
   "cell_type": "code",
   "execution_count": 6,
   "metadata": {
    "code_folding": []
   },
   "outputs": [],
   "source": [
    "class SequenceNetwork(tf.keras.Model):\n",
    "    \"\"\"\n",
    "    Implements an LSTM summary network to summarize time-series data generated from the Ricker model.\n",
    "    \"\"\"\n",
    "    \n",
    "    def __init__(self, h_lstm_dim=32, h_dense_dim=64):\n",
    "        super(SequenceNetwork, self).__init__()\n",
    "        \n",
    "        self.summary_part = tf.keras.Sequential([\n",
    "            tf.keras.layers.Bidirectional(tf.keras.layers.CuDNNLSTM(h_lstm_dim)),\n",
    "            tf.keras.layers.BatchNormalization(),\n",
    "            tf.keras.layers.Dense(h_dense_dim, kernel_initializer='glorot_uniform'),\n",
    "            tf.keras.layers.BatchNormalization(),\n",
    "            tf.keras.layers.Activation('elu'),\n",
    "            tf.keras.layers.Dense(h_dense_dim, kernel_initializer='glorot_uniform'),\n",
    "            tf.keras.layers.BatchNormalization(),\n",
    "            tf.keras.layers.Activation('elu'),\n",
    "        ])\n",
    "    \n",
    "    def call(self, x, training=True):\n",
    "        \n",
    "        x = self.summary_part(x, training=training)\n",
    "        return x"
   ]
  },
  {
   "cell_type": "markdown",
   "metadata": {},
   "source": [
    "<p>We will also append a dummy noise parameter to the true parameter vector.</p>"
   ]
  },
  {
   "cell_type": "code",
   "execution_count": 7,
   "metadata": {},
   "outputs": [],
   "source": [
    "def add_noise_var(X_batch, theta_batch):\n",
    "    \"\"\"\n",
    "    Adds a column of uniform noise to the true parameter values.\n",
    "    \"\"\"\n",
    "    \n",
    "    noise_col = tf.random.uniform(shape=(theta_batch.shape[0], 1))\n",
    "    theta_batch = tf.concat((theta_batch, noise_col), axis=-1)\n",
    "    return X_batch, theta_batch"
   ]
  },
  {
   "cell_type": "markdown",
   "metadata": {},
   "source": [
    "## Initialization "
   ]
  },
  {
   "cell_type": "code",
   "execution_count": 8,
   "metadata": {
    "code_folding": []
   },
   "outputs": [],
   "source": [
    "# --- Structure of the coupling blocks in the INN chain --- #\n",
    "inv_meta = {\n",
    "    'n_units': [64, 64, 64, 64, 64],\n",
    "    'activation': 'elu',\n",
    "    'w_decay': 0.00001,\n",
    "    'initializer': 'glorot_uniform'\n",
    "}\n",
    "\n",
    "\n",
    "# --- Training hyperparameters --- #\n",
    "train = False\n",
    "param_names = [r'$\\alpha$', r'$\\beta$', r'$\\Lambda$', r's',r'\\Theta']\n",
    "theta_dim = 5\n",
    "global_step = tf.Variable(0, dtype=tf.int32)\n",
    "batch_size = 64\n",
    "summary_dim = 64\n",
    "epochs = 100\n",
    "iterations_per_epoch = 1000\n",
    "n_inv_blocks = 10\n",
    "n_test = 300\n",
    "n_test2 = 3\n",
    "n_samples_posterior = 2000\n",
    "starter_learning_rate = 0.001\n",
    "decay_steps = 2000\n",
    "decay_rate = 0.1\n",
    "clip_value = 5.\n",
    "learning_rate = tf.compat.v1.train.exponential_decay(starter_learning_rate, global_step, decay_steps, decay_rate)\n",
    "#earning_rate = tf.compat.v1.train.polynomial_decay(starter_learning_rate,global_step=tf.Variable(0, trainable=False), decay_steps=10000,end_learning_rate=0.5,power=0.5,cycle=False,name=None)"
   ]
  },
  {
   "cell_type": "markdown",
   "metadata": {},
   "source": [
    "### Create test data"
   ]
  },
  {
   "cell_type": "code",
   "execution_count": 9,
   "metadata": {},
   "outputs": [
    {
     "name": "stdout",
     "output_type": "stream",
     "text": [
      "(64, 170)\n",
      "(64, 5)\n",
      "(64, 170)\n",
      "(64, 5)\n"
     ]
    },
    {
     "data": {
      "image/png": "[encoded data removed]",
      "text/plain": [
       "<Figure size 432x288 with 1 Axes>"
      ]
     },
     "metadata": {
      "needs_background": "light"
     },
     "output_type": "display_data"
    }
   ],
   "source": [
    "# For scatter\n",
    "#simulate_model(100, n_points=500, to_tensor=False)\n",
    "X_sim, theta_sim = simulate_model()\n",
    " \n",
    "np.save('model_X.npy', X_sim)\n",
    "np.save('model_theta.npy', theta_sim)\n",
    "\n",
    "print(X_sim.shape)\n",
    "print(theta_sim.shape)\n",
    "X_test, theta_test = load_test_model()\n",
    "\n",
    "print(X_test.shape)\n",
    "print(theta_test.shape)\n",
    "\n",
    "plt.plot(X_sim[0][1:],label='Batch-1')\n",
    "plt.plot(X_sim[1][1:],label='Batch-2')\n",
    "plt.plot(X_sim[2][1:],label='Batch-3')\n",
    "'''plt.plot(X_sim[3][1:],label='Batch-4')\n",
    "plt.plot(X_sim[4][1:],label='Batch-5')\n",
    "plt.plot(X_sim[6][1:],label='Batch-6')'''\n",
    "plt.plot(X_sim[63][1:],label='Batch-100')\n",
    "plt.title(\"Simulated battery capacity data for the model\")\n",
    "plt.xlabel('cycle')\n",
    "plt.ylabel('Normalized Capacity')\n",
    "plt.legend()\n",
    "plt.grid()\n",
    "plt.show()"
   ]
  },
  {
   "cell_type": "markdown",
   "metadata": {},
   "source": [
    "### Create networks"
   ]
  },
  {
   "cell_type": "code",
   "execution_count": 10,
   "metadata": {},
   "outputs": [],
   "source": [
    "#summary_net = SequenceNetwork(h_lstm_dim=summary_dim)\n",
    "model = DeepConditionalModel(inv_meta, n_inv_blocks, theta_dim, summary_net=None, permute=True)\n",
    "optimizer = tf.compat.v1.train.AdamOptimizer(learning_rate=learning_rate)"
   ]
  },
  {
   "cell_type": "markdown",
   "metadata": {},
   "source": [
    "### Plot performance of untrained networks"
   ]
  },
  {
   "cell_type": "code",
   "execution_count": 11,
   "metadata": {},
   "outputs": [
    {
     "data": {
      "image/png": "[encoded data removed]",
      "text/plain": [
       "<Figure size 864x360 with 5 Axes>"
      ]
     },
     "metadata": {
      "needs_background": "light"
     },
     "output_type": "display_data"
    }
   ],
   "source": [
    "plot_true_est_scatter(model, X_test, theta_test, n_samples_posterior, param_names[:5], figsize=(12, 5))\n"
   ]
  },
  {
   "cell_type": "markdown",
   "metadata": {},
   "source": [
    "### Checkpoint manager"
   ]
  },
  {
   "cell_type": "code",
   "execution_count": 12,
   "metadata": {},
   "outputs": [
    {
     "name": "stdout",
     "output_type": "stream",
     "text": [
      "Restored from ./checkpoints/model\\ckpt-230\n"
     ]
    }
   ],
   "source": [
    "checkpoint = tf.train.Checkpoint(step=global_step, optimizer=optimizer, net=model)\n",
    "manager = tf.train.CheckpointManager(checkpoint, './checkpoints/model', max_to_keep=5)\n",
    "checkpoint.restore(manager.latest_checkpoint)\n",
    "if manager.latest_checkpoint:\n",
    "    print(\"Restored from {}\".format(manager.latest_checkpoint))\n",
    "else:\n",
    "    print(\"Initializing from scratch.\")\n"
   ]
  },
  {
   "cell_type": "markdown",
   "metadata": {},
   "source": [
    "## Train the model"
   ]
  },
  {
   "cell_type": "code",
   "execution_count": 13,
   "metadata": {},
   "outputs": [
    {
     "name": "stderr",
     "output_type": "stream",
     "text": [
      "<timed exec>:2: TqdmDeprecationWarning: This function will be removed in tqdm==5.0.0\n",
      "Please use `tqdm.notebook.tqdm` instead of `tqdm.tqdm_notebook`\n"
     ]
    },
    {
     "data": {
      "application/vnd.jupyter.widget-view+json": {
       "model_id": "f7c0245d2f4f42e2b0fb79b9ca9a48c7",
       "version_major": 2,
       "version_minor": 0
      },
      "text/plain": [
       "Training epoch 1:   0%|          | 0/1000 [00:00<?, ?it/s]"
      ]
     },
     "metadata": {},
     "output_type": "display_data"
    },
    {
     "data": {
      "application/vnd.jupyter.widget-view+json": {
       "model_id": "db3ab25b4bf44789b5cd42ddb9ccbd3b",
       "version_major": 2,
       "version_minor": 0
      },
      "text/plain": [
       "Training epoch 2:   0%|          | 0/1000 [00:00<?, ?it/s]"
      ]
     },
     "metadata": {},
     "output_type": "display_data"
    },
    {
     "data": {
      "application/vnd.jupyter.widget-view+json": {
       "model_id": "898c7073e345419ba1885039def3851f",
       "version_major": 2,
       "version_minor": 0
      },
      "text/plain": [
       "Training epoch 3:   0%|          | 0/1000 [00:00<?, ?it/s]"
      ]
     },
     "metadata": {},
     "output_type": "display_data"
    },
    {
     "data": {
      "application/vnd.jupyter.widget-view+json": {
       "model_id": "6a814cbbe7a04e08bfe302adc129943c",
       "version_major": 2,
       "version_minor": 0
      },
      "text/plain": [
       "Training epoch 4:   0%|          | 0/1000 [00:00<?, ?it/s]"
      ]
     },
     "metadata": {},
     "output_type": "display_data"
    },
    {
     "data": {
      "application/vnd.jupyter.widget-view+json": {
       "model_id": "e6306ae02ddf4691b25efa9c63558106",
       "version_major": 2,
       "version_minor": 0
      },
      "text/plain": [
       "Training epoch 5:   0%|          | 0/1000 [00:00<?, ?it/s]"
      ]
     },
     "metadata": {},
     "output_type": "display_data"
    },
    {
     "data": {
      "application/vnd.jupyter.widget-view+json": {
       "model_id": "59c1f6502205481890c03472384422fa",
       "version_major": 2,
       "version_minor": 0
      },
      "text/plain": [
       "Training epoch 6:   0%|          | 0/1000 [00:00<?, ?it/s]"
      ]
     },
     "metadata": {},
     "output_type": "display_data"
    },
    {
     "data": {
      "application/vnd.jupyter.widget-view+json": {
       "model_id": "dcf746ef72494413933fb56436eee67b",
       "version_major": 2,
       "version_minor": 0
      },
      "text/plain": [
       "Training epoch 7:   0%|          | 0/1000 [00:00<?, ?it/s]"
      ]
     },
     "metadata": {},
     "output_type": "display_data"
    },
    {
     "data": {
      "application/vnd.jupyter.widget-view+json": {
       "model_id": "53ff31355075427b974262f6dd8cce74",
       "version_major": 2,
       "version_minor": 0
      },
      "text/plain": [
       "Training epoch 8:   0%|          | 0/1000 [00:00<?, ?it/s]"
      ]
     },
     "metadata": {},
     "output_type": "display_data"
    },
    {
     "data": {
      "application/vnd.jupyter.widget-view+json": {
       "model_id": "4c8e6732c076495d92665b589d777690",
       "version_major": 2,
       "version_minor": 0
      },
      "text/plain": [
       "Training epoch 9:   0%|          | 0/1000 [00:00<?, ?it/s]"
      ]
     },
     "metadata": {},
     "output_type": "display_data"
    },
    {
     "data": {
      "application/vnd.jupyter.widget-view+json": {
       "model_id": "c357bc1de42843e789be22d61cba70fa",
       "version_major": 2,
       "version_minor": 0
      },
      "text/plain": [
       "Training epoch 10:   0%|          | 0/1000 [00:00<?, ?it/s]"
      ]
     },
     "metadata": {},
     "output_type": "display_data"
    },
    {
     "data": {
      "application/vnd.jupyter.widget-view+json": {
       "model_id": "264b4245f2cd446696db45c345aa09b6",
       "version_major": 2,
       "version_minor": 0
      },
      "text/plain": [
       "Training epoch 11:   0%|          | 0/1000 [00:00<?, ?it/s]"
      ]
     },
     "metadata": {},
     "output_type": "display_data"
    },
    {
     "data": {
      "application/vnd.jupyter.widget-view+json": {
       "model_id": "9aee30ff3446445b8a60603d4979274d",
       "version_major": 2,
       "version_minor": 0
      },
      "text/plain": [
       "Training epoch 12:   0%|          | 0/1000 [00:00<?, ?it/s]"
      ]
     },
     "metadata": {},
     "output_type": "display_data"
    },
    {
     "data": {
      "application/vnd.jupyter.widget-view+json": {
       "model_id": "804586491f454301b42ff0795d59837f",
       "version_major": 2,
       "version_minor": 0
      },
      "text/plain": [
       "Training epoch 13:   0%|          | 0/1000 [00:00<?, ?it/s]"
      ]
     },
     "metadata": {},
     "output_type": "display_data"
    },
    {
     "data": {
      "application/vnd.jupyter.widget-view+json": {
       "model_id": "06245264c7c34a489ebe915cb716e42e",
       "version_major": 2,
       "version_minor": 0
      },
      "text/plain": [
       "Training epoch 14:   0%|          | 0/1000 [00:00<?, ?it/s]"
      ]
     },
     "metadata": {},
     "output_type": "display_data"
    },
    {
     "data": {
      "application/vnd.jupyter.widget-view+json": {
       "model_id": "100c57eedeae44c2aa0283b89b982d25",
       "version_major": 2,
       "version_minor": 0
      },
      "text/plain": [
       "Training epoch 15:   0%|          | 0/1000 [00:00<?, ?it/s]"
      ]
     },
     "metadata": {},
     "output_type": "display_data"
    },
    {
     "data": {
      "application/vnd.jupyter.widget-view+json": {
       "model_id": "38b3080efd794dccbabf3baf8d436c51",
       "version_major": 2,
       "version_minor": 0
      },
      "text/plain": [
       "Training epoch 16:   0%|          | 0/1000 [00:00<?, ?it/s]"
      ]
     },
     "metadata": {},
     "output_type": "display_data"
    },
    {
     "data": {
      "application/vnd.jupyter.widget-view+json": {
       "model_id": "f2f6b915786d4dc4909e6b8226962655",
       "version_major": 2,
       "version_minor": 0
      },
      "text/plain": [
       "Training epoch 17:   0%|          | 0/1000 [00:00<?, ?it/s]"
      ]
     },
     "metadata": {},
     "output_type": "display_data"
    },
    {
     "data": {
      "application/vnd.jupyter.widget-view+json": {
       "model_id": "05afa30f80dd411a99b95f55e6978094",
       "version_major": 2,
       "version_minor": 0
      },
      "text/plain": [
       "Training epoch 18:   0%|          | 0/1000 [00:00<?, ?it/s]"
      ]
     },
     "metadata": {},
     "output_type": "display_data"
    },
    {
     "data": {
      "application/vnd.jupyter.widget-view+json": {
       "model_id": "ec58670ef25643c687fcd3516e96c885",
       "version_major": 2,
       "version_minor": 0
      },
      "text/plain": [
       "Training epoch 19:   0%|          | 0/1000 [00:00<?, ?it/s]"
      ]
     },
     "metadata": {},
     "output_type": "display_data"
    },
    {
     "data": {
      "application/vnd.jupyter.widget-view+json": {
       "model_id": "c9400811c94a4aa6bff4213e671390d2",
       "version_major": 2,
       "version_minor": 0
      },
      "text/plain": [
       "Training epoch 20:   0%|          | 0/1000 [00:00<?, ?it/s]"
      ]
     },
     "metadata": {},
     "output_type": "display_data"
    },
    {
     "data": {
      "application/vnd.jupyter.widget-view+json": {
       "model_id": "98685e7c4aa748b080843adf05ac8e14",
       "version_major": 2,
       "version_minor": 0
      },
      "text/plain": [
       "Training epoch 21:   0%|          | 0/1000 [00:00<?, ?it/s]"
      ]
     },
     "metadata": {},
     "output_type": "display_data"
    },
    {
     "data": {
      "application/vnd.jupyter.widget-view+json": {
       "model_id": "0a484a9243504065a556eff00be692f1",
       "version_major": 2,
       "version_minor": 0
      },
      "text/plain": [
       "Training epoch 22:   0%|          | 0/1000 [00:00<?, ?it/s]"
      ]
     },
     "metadata": {},
     "output_type": "display_data"
    },
    {
     "data": {
      "application/vnd.jupyter.widget-view+json": {
       "model_id": "fdbafd28a8194c9aae056d2558263bff",
       "version_major": 2,
       "version_minor": 0
      },
      "text/plain": [
       "Training epoch 23:   0%|          | 0/1000 [00:00<?, ?it/s]"
      ]
     },
     "metadata": {},
     "output_type": "display_data"
    },
    {
     "data": {
      "application/vnd.jupyter.widget-view+json": {
       "model_id": "7dfdd5b76b364b2a951051b1a2e3ed32",
       "version_major": 2,
       "version_minor": 0
      },
      "text/plain": [
       "Training epoch 24:   0%|          | 0/1000 [00:00<?, ?it/s]"
      ]
     },
     "metadata": {},
     "output_type": "display_data"
    },
    {
     "data": {
      "application/vnd.jupyter.widget-view+json": {
       "model_id": "f79555b92b0c4285852dc9694b88fb77",
       "version_major": 2,
       "version_minor": 0
      },
      "text/plain": [
       "Training epoch 25:   0%|          | 0/1000 [00:00<?, ?it/s]"
      ]
     },
     "metadata": {},
     "output_type": "display_data"
    },
    {
     "data": {
      "application/vnd.jupyter.widget-view+json": {
       "model_id": "092509fe8ff24adaa3d5a887878cd962",
       "version_major": 2,
       "version_minor": 0
      },
      "text/plain": [
       "Training epoch 26:   0%|          | 0/1000 [00:00<?, ?it/s]"
      ]
     },
     "metadata": {},
     "output_type": "display_data"
    },
    {
     "data": {
      "application/vnd.jupyter.widget-view+json": {
       "model_id": "faa1182ed9144406a14052b055504945",
       "version_major": 2,
       "version_minor": 0
      },
      "text/plain": [
       "Training epoch 27:   0%|          | 0/1000 [00:00<?, ?it/s]"
      ]
     },
     "metadata": {},
     "output_type": "display_data"
    },
    {
     "data": {
      "application/vnd.jupyter.widget-view+json": {
       "model_id": "ac6c0c7834124a59baae14707d8c356a",
       "version_major": 2,
       "version_minor": 0
      },
      "text/plain": [
       "Training epoch 28:   0%|          | 0/1000 [00:00<?, ?it/s]"
      ]
     },
     "metadata": {},
     "output_type": "display_data"
    },
    {
     "data": {
      "application/vnd.jupyter.widget-view+json": {
       "model_id": "b230865628394a299902046aa374d4b8",
       "version_major": 2,
       "version_minor": 0
      },
      "text/plain": [
       "Training epoch 29:   0%|          | 0/1000 [00:00<?, ?it/s]"
      ]
     },
     "metadata": {},
     "output_type": "display_data"
    },
    {
     "data": {
      "application/vnd.jupyter.widget-view+json": {
       "model_id": "92e12c7a1f3b4b4ca751e65e31494f83",
       "version_major": 2,
       "version_minor": 0
      },
      "text/plain": [
       "Training epoch 30:   0%|          | 0/1000 [00:00<?, ?it/s]"
      ]
     },
     "metadata": {},
     "output_type": "display_data"
    },
    {
     "data": {
      "application/vnd.jupyter.widget-view+json": {
       "model_id": "69bb4f2c3512428782e1b5a22c54d49a",
       "version_major": 2,
       "version_minor": 0
      },
      "text/plain": [
       "Training epoch 31:   0%|          | 0/1000 [00:00<?, ?it/s]"
      ]
     },
     "metadata": {},
     "output_type": "display_data"
    },
    {
     "data": {
      "application/vnd.jupyter.widget-view+json": {
       "model_id": "10f2195f089547bdb2f7a40b74621945",
       "version_major": 2,
       "version_minor": 0
      },
      "text/plain": [
       "Training epoch 32:   0%|          | 0/1000 [00:00<?, ?it/s]"
      ]
     },
     "metadata": {},
     "output_type": "display_data"
    },
    {
     "data": {
      "application/vnd.jupyter.widget-view+json": {
       "model_id": "1e827e965f744389aa95bd6cf269f8e6",
       "version_major": 2,
       "version_minor": 0
      },
      "text/plain": [
       "Training epoch 33:   0%|          | 0/1000 [00:00<?, ?it/s]"
      ]
     },
     "metadata": {},
     "output_type": "display_data"
    },
    {
     "data": {
      "application/vnd.jupyter.widget-view+json": {
       "model_id": "51a172f58445465e89a199ca44d5495c",
       "version_major": 2,
       "version_minor": 0
      },
      "text/plain": [
       "Training epoch 34:   0%|          | 0/1000 [00:00<?, ?it/s]"
      ]
     },
     "metadata": {},
     "output_type": "display_data"
    },
    {
     "data": {
      "application/vnd.jupyter.widget-view+json": {
       "model_id": "3d99f426c8cb4965bca5133943dbbd2b",
       "version_major": 2,
       "version_minor": 0
      },
      "text/plain": [
       "Training epoch 35:   0%|          | 0/1000 [00:00<?, ?it/s]"
      ]
     },
     "metadata": {},
     "output_type": "display_data"
    },
    {
     "data": {
      "application/vnd.jupyter.widget-view+json": {
       "model_id": "d963b9e447a343eebba233340f1bef99",
       "version_major": 2,
       "version_minor": 0
      },
      "text/plain": [
       "Training epoch 36:   0%|          | 0/1000 [00:00<?, ?it/s]"
      ]
     },
     "metadata": {},
     "output_type": "display_data"
    },
    {
     "data": {
      "application/vnd.jupyter.widget-view+json": {
       "model_id": "4faea884010443f7b3090846f92c7eb3",
       "version_major": 2,
       "version_minor": 0
      },
      "text/plain": [
       "Training epoch 37:   0%|          | 0/1000 [00:00<?, ?it/s]"
      ]
     },
     "metadata": {},
     "output_type": "display_data"
    },
    {
     "data": {
      "application/vnd.jupyter.widget-view+json": {
       "model_id": "ed045793f05540c790e6e9c7e3293a8c",
       "version_major": 2,
       "version_minor": 0
      },
      "text/plain": [
       "Training epoch 38:   0%|          | 0/1000 [00:00<?, ?it/s]"
      ]
     },
     "metadata": {},
     "output_type": "display_data"
    },
    {
     "data": {
      "application/vnd.jupyter.widget-view+json": {
       "model_id": "a29cd72e8dac4b0f8308f982d44a5283",
       "version_major": 2,
       "version_minor": 0
      },
      "text/plain": [
       "Training epoch 39:   0%|          | 0/1000 [00:00<?, ?it/s]"
      ]
     },
     "metadata": {},
     "output_type": "display_data"
    },
    {
     "data": {
      "application/vnd.jupyter.widget-view+json": {
       "model_id": "81bc7d932f5b4257906c4a91a93e85ee",
       "version_major": 2,
       "version_minor": 0
      },
      "text/plain": [
       "Training epoch 40:   0%|          | 0/1000 [00:00<?, ?it/s]"
      ]
     },
     "metadata": {},
     "output_type": "display_data"
    },
    {
     "data": {
      "application/vnd.jupyter.widget-view+json": {
       "model_id": "88921972d9cd425cba7eb0bb936593e7",
       "version_major": 2,
       "version_minor": 0
      },
      "text/plain": [
       "Training epoch 41:   0%|          | 0/1000 [00:00<?, ?it/s]"
      ]
     },
     "metadata": {},
     "output_type": "display_data"
    },
    {
     "data": {
      "application/vnd.jupyter.widget-view+json": {
       "model_id": "6aa502c1dfe841e78be5fe69df5a3f95",
       "version_major": 2,
       "version_minor": 0
      },
      "text/plain": [
       "Training epoch 42:   0%|          | 0/1000 [00:00<?, ?it/s]"
      ]
     },
     "metadata": {},
     "output_type": "display_data"
    },
    {
     "data": {
      "application/vnd.jupyter.widget-view+json": {
       "model_id": "c86e5ee0892e4d2195ee5d9f9d40f1ac",
       "version_major": 2,
       "version_minor": 0
      },
      "text/plain": [
       "Training epoch 43:   0%|          | 0/1000 [00:00<?, ?it/s]"
      ]
     },
     "metadata": {},
     "output_type": "display_data"
    },
    {
     "data": {
      "application/vnd.jupyter.widget-view+json": {
       "model_id": "f5f4d9f310b1451fafdae30507258c4e",
       "version_major": 2,
       "version_minor": 0
      },
      "text/plain": [
       "Training epoch 44:   0%|          | 0/1000 [00:00<?, ?it/s]"
      ]
     },
     "metadata": {},
     "output_type": "display_data"
    },
    {
     "data": {
      "application/vnd.jupyter.widget-view+json": {
       "model_id": "e065942621e34cc1a35c6034bf16e9af",
       "version_major": 2,
       "version_minor": 0
      },
      "text/plain": [
       "Training epoch 45:   0%|          | 0/1000 [00:00<?, ?it/s]"
      ]
     },
     "metadata": {},
     "output_type": "display_data"
    },
    {
     "data": {
      "application/vnd.jupyter.widget-view+json": {
       "model_id": "550a2b38f4a341329932f1903dde0288",
       "version_major": 2,
       "version_minor": 0
      },
      "text/plain": [
       "Training epoch 46:   0%|          | 0/1000 [00:00<?, ?it/s]"
      ]
     },
     "metadata": {},
     "output_type": "display_data"
    },
    {
     "data": {
      "application/vnd.jupyter.widget-view+json": {
       "model_id": "050de3f8d6664fd1b274bd464346c7f0",
       "version_major": 2,
       "version_minor": 0
      },
      "text/plain": [
       "Training epoch 47:   0%|          | 0/1000 [00:00<?, ?it/s]"
      ]
     },
     "metadata": {},
     "output_type": "display_data"
    },
    {
     "data": {
      "application/vnd.jupyter.widget-view+json": {
       "model_id": "dce8ffe9c75843a2bed81a897d2e6821",
       "version_major": 2,
       "version_minor": 0
      },
      "text/plain": [
       "Training epoch 48:   0%|          | 0/1000 [00:00<?, ?it/s]"
      ]
     },
     "metadata": {},
     "output_type": "display_data"
    },
    {
     "data": {
      "application/vnd.jupyter.widget-view+json": {
       "model_id": "6aaa672b517b4c1db3bba8d9c56479aa",
       "version_major": 2,
       "version_minor": 0
      },
      "text/plain": [
       "Training epoch 49:   0%|          | 0/1000 [00:00<?, ?it/s]"
      ]
     },
     "metadata": {},
     "output_type": "display_data"
    },
    {
     "data": {
      "application/vnd.jupyter.widget-view+json": {
       "model_id": "888e97c57f6549199a91e924448e93c2",
       "version_major": 2,
       "version_minor": 0
      },
      "text/plain": [
       "Training epoch 50:   0%|          | 0/1000 [00:00<?, ?it/s]"
      ]
     },
     "metadata": {},
     "output_type": "display_data"
    },
    {
     "data": {
      "application/vnd.jupyter.widget-view+json": {
       "model_id": "9d1dbc72c1334f6eb733434f9d02e9a0",
       "version_major": 2,
       "version_minor": 0
      },
      "text/plain": [
       "Training epoch 51:   0%|          | 0/1000 [00:00<?, ?it/s]"
      ]
     },
     "metadata": {},
     "output_type": "display_data"
    },
    {
     "data": {
      "application/vnd.jupyter.widget-view+json": {
       "model_id": "2367e6557e034169a98435466686ee34",
       "version_major": 2,
       "version_minor": 0
      },
      "text/plain": [
       "Training epoch 52:   0%|          | 0/1000 [00:00<?, ?it/s]"
      ]
     },
     "metadata": {},
     "output_type": "display_data"
    },
    {
     "data": {
      "application/vnd.jupyter.widget-view+json": {
       "model_id": "0247b9daec1145f2ab19640c5336e167",
       "version_major": 2,
       "version_minor": 0
      },
      "text/plain": [
       "Training epoch 53:   0%|          | 0/1000 [00:00<?, ?it/s]"
      ]
     },
     "metadata": {},
     "output_type": "display_data"
    },
    {
     "data": {
      "application/vnd.jupyter.widget-view+json": {
       "model_id": "d2d5b272a23d4f2e9834e8870aa6a9f2",
       "version_major": 2,
       "version_minor": 0
      },
      "text/plain": [
       "Training epoch 54:   0%|          | 0/1000 [00:00<?, ?it/s]"
      ]
     },
     "metadata": {},
     "output_type": "display_data"
    },
    {
     "data": {
      "application/vnd.jupyter.widget-view+json": {
       "model_id": "6d870f9697ea4a2daf6bd9f70557803f",
       "version_major": 2,
       "version_minor": 0
      },
      "text/plain": [
       "Training epoch 55:   0%|          | 0/1000 [00:00<?, ?it/s]"
      ]
     },
     "metadata": {},
     "output_type": "display_data"
    },
    {
     "data": {
      "application/vnd.jupyter.widget-view+json": {
       "model_id": "7f83889da662469cb3307eb4e12beaef",
       "version_major": 2,
       "version_minor": 0
      },
      "text/plain": [
       "Training epoch 56:   0%|          | 0/1000 [00:00<?, ?it/s]"
      ]
     },
     "metadata": {},
     "output_type": "display_data"
    },
    {
     "data": {
      "application/vnd.jupyter.widget-view+json": {
       "model_id": "aa1ed36e44f74b9ab7c38d8091aea7e3",
       "version_major": 2,
       "version_minor": 0
      },
      "text/plain": [
       "Training epoch 57:   0%|          | 0/1000 [00:00<?, ?it/s]"
      ]
     },
     "metadata": {},
     "output_type": "display_data"
    },
    {
     "data": {
      "application/vnd.jupyter.widget-view+json": {
       "model_id": "8237b1a0841d454e9326314ad3f4b916",
       "version_major": 2,
       "version_minor": 0
      },
      "text/plain": [
       "Training epoch 58:   0%|          | 0/1000 [00:00<?, ?it/s]"
      ]
     },
     "metadata": {},
     "output_type": "display_data"
    },
    {
     "data": {
      "application/vnd.jupyter.widget-view+json": {
       "model_id": "f0e9f61b1cfa455ca6995dfc51a400f5",
       "version_major": 2,
       "version_minor": 0
      },
      "text/plain": [
       "Training epoch 59:   0%|          | 0/1000 [00:00<?, ?it/s]"
      ]
     },
     "metadata": {},
     "output_type": "display_data"
    },
    {
     "data": {
      "application/vnd.jupyter.widget-view+json": {
       "model_id": "8678e2c00f854ccbb84c57b9d6860577",
       "version_major": 2,
       "version_minor": 0
      },
      "text/plain": [
       "Training epoch 60:   0%|          | 0/1000 [00:00<?, ?it/s]"
      ]
     },
     "metadata": {},
     "output_type": "display_data"
    },
    {
     "data": {
      "application/vnd.jupyter.widget-view+json": {
       "model_id": "a9d5e47a5a2b4768be09b5843add4fe5",
       "version_major": 2,
       "version_minor": 0
      },
      "text/plain": [
       "Training epoch 61:   0%|          | 0/1000 [00:00<?, ?it/s]"
      ]
     },
     "metadata": {},
     "output_type": "display_data"
    },
    {
     "data": {
      "application/vnd.jupyter.widget-view+json": {
       "model_id": "bb9d39b48f574aac96046e2d8fa29d84",
       "version_major": 2,
       "version_minor": 0
      },
      "text/plain": [
       "Training epoch 62:   0%|          | 0/1000 [00:00<?, ?it/s]"
      ]
     },
     "metadata": {},
     "output_type": "display_data"
    },
    {
     "data": {
      "application/vnd.jupyter.widget-view+json": {
       "model_id": "be1bb94b7d9042dda81a2d6d27f37cef",
       "version_major": 2,
       "version_minor": 0
      },
      "text/plain": [
       "Training epoch 63:   0%|          | 0/1000 [00:00<?, ?it/s]"
      ]
     },
     "metadata": {},
     "output_type": "display_data"
    },
    {
     "data": {
      "application/vnd.jupyter.widget-view+json": {
       "model_id": "1b0497e1d8624aa68a64e879b1e5e73e",
       "version_major": 2,
       "version_minor": 0
      },
      "text/plain": [
       "Training epoch 64:   0%|          | 0/1000 [00:00<?, ?it/s]"
      ]
     },
     "metadata": {},
     "output_type": "display_data"
    },
    {
     "data": {
      "application/vnd.jupyter.widget-view+json": {
       "model_id": "fd712dcfac664209adb691bc23177356",
       "version_major": 2,
       "version_minor": 0
      },
      "text/plain": [
       "Training epoch 65:   0%|          | 0/1000 [00:00<?, ?it/s]"
      ]
     },
     "metadata": {},
     "output_type": "display_data"
    },
    {
     "data": {
      "application/vnd.jupyter.widget-view+json": {
       "model_id": "8fa7beff465748c6a73593917df99522",
       "version_major": 2,
       "version_minor": 0
      },
      "text/plain": [
       "Training epoch 66:   0%|          | 0/1000 [00:00<?, ?it/s]"
      ]
     },
     "metadata": {},
     "output_type": "display_data"
    },
    {
     "data": {
      "application/vnd.jupyter.widget-view+json": {
       "model_id": "ffec6bdb0164452ba7ded2b59f1698b8",
       "version_major": 2,
       "version_minor": 0
      },
      "text/plain": [
       "Training epoch 67:   0%|          | 0/1000 [00:00<?, ?it/s]"
      ]
     },
     "metadata": {},
     "output_type": "display_data"
    },
    {
     "data": {
      "application/vnd.jupyter.widget-view+json": {
       "model_id": "ca16ae2c19034a60be71858a43acc8af",
       "version_major": 2,
       "version_minor": 0
      },
      "text/plain": [
       "Training epoch 68:   0%|          | 0/1000 [00:00<?, ?it/s]"
      ]
     },
     "metadata": {},
     "output_type": "display_data"
    },
    {
     "data": {
      "application/vnd.jupyter.widget-view+json": {
       "model_id": "9b3f78cb5baf4596add4e3740ce29565",
       "version_major": 2,
       "version_minor": 0
      },
      "text/plain": [
       "Training epoch 69:   0%|          | 0/1000 [00:00<?, ?it/s]"
      ]
     },
     "metadata": {},
     "output_type": "display_data"
    },
    {
     "data": {
      "application/vnd.jupyter.widget-view+json": {
       "model_id": "8a32fa6845f248b089a052d8700cedd5",
       "version_major": 2,
       "version_minor": 0
      },
      "text/plain": [
       "Training epoch 70:   0%|          | 0/1000 [00:00<?, ?it/s]"
      ]
     },
     "metadata": {},
     "output_type": "display_data"
    },
    {
     "data": {
      "application/vnd.jupyter.widget-view+json": {
       "model_id": "0b7c52969d6142fea9ed0731f4044c66",
       "version_major": 2,
       "version_minor": 0
      },
      "text/plain": [
       "Training epoch 71:   0%|          | 0/1000 [00:00<?, ?it/s]"
      ]
     },
     "metadata": {},
     "output_type": "display_data"
    },
    {
     "data": {
      "application/vnd.jupyter.widget-view+json": {
       "model_id": "5c4c1babd2fe48c480db79f76a8b5863",
       "version_major": 2,
       "version_minor": 0
      },
      "text/plain": [
       "Training epoch 72:   0%|          | 0/1000 [00:00<?, ?it/s]"
      ]
     },
     "metadata": {},
     "output_type": "display_data"
    },
    {
     "data": {
      "application/vnd.jupyter.widget-view+json": {
       "model_id": "ef94060ed3f54b2b901808d79bd18a9d",
       "version_major": 2,
       "version_minor": 0
      },
      "text/plain": [
       "Training epoch 73:   0%|          | 0/1000 [00:00<?, ?it/s]"
      ]
     },
     "metadata": {},
     "output_type": "display_data"
    },
    {
     "data": {
      "application/vnd.jupyter.widget-view+json": {
       "model_id": "5517b115ce8c419b9bd39447be95fd81",
       "version_major": 2,
       "version_minor": 0
      },
      "text/plain": [
       "Training epoch 74:   0%|          | 0/1000 [00:00<?, ?it/s]"
      ]
     },
     "metadata": {},
     "output_type": "display_data"
    },
    {
     "data": {
      "application/vnd.jupyter.widget-view+json": {
       "model_id": "c21cfe9b8c6e4a2ab5cbfda9b862df4c",
       "version_major": 2,
       "version_minor": 0
      },
      "text/plain": [
       "Training epoch 75:   0%|          | 0/1000 [00:00<?, ?it/s]"
      ]
     },
     "metadata": {},
     "output_type": "display_data"
    },
    {
     "data": {
      "application/vnd.jupyter.widget-view+json": {
       "model_id": "b75cde91955c45c283d088d93f66d73a",
       "version_major": 2,
       "version_minor": 0
      },
      "text/plain": [
       "Training epoch 76:   0%|          | 0/1000 [00:00<?, ?it/s]"
      ]
     },
     "metadata": {},
     "output_type": "display_data"
    },
    {
     "data": {
      "application/vnd.jupyter.widget-view+json": {
       "model_id": "cba6d8ed5b144399856a4f772022f051",
       "version_major": 2,
       "version_minor": 0
      },
      "text/plain": [
       "Training epoch 77:   0%|          | 0/1000 [00:00<?, ?it/s]"
      ]
     },
     "metadata": {},
     "output_type": "display_data"
    },
    {
     "data": {
      "application/vnd.jupyter.widget-view+json": {
       "model_id": "1b17c8ab5ae8455cabe5249eee81b644",
       "version_major": 2,
       "version_minor": 0
      },
      "text/plain": [
       "Training epoch 78:   0%|          | 0/1000 [00:00<?, ?it/s]"
      ]
     },
     "metadata": {},
     "output_type": "display_data"
    },
    {
     "data": {
      "application/vnd.jupyter.widget-view+json": {
       "model_id": "225723830b9b43ab8c144dc293d7532e",
       "version_major": 2,
       "version_minor": 0
      },
      "text/plain": [
       "Training epoch 79:   0%|          | 0/1000 [00:00<?, ?it/s]"
      ]
     },
     "metadata": {},
     "output_type": "display_data"
    },
    {
     "data": {
      "application/vnd.jupyter.widget-view+json": {
       "model_id": "b6adf30881bc4fec9f022f9417624169",
       "version_major": 2,
       "version_minor": 0
      },
      "text/plain": [
       "Training epoch 80:   0%|          | 0/1000 [00:00<?, ?it/s]"
      ]
     },
     "metadata": {},
     "output_type": "display_data"
    },
    {
     "data": {
      "application/vnd.jupyter.widget-view+json": {
       "model_id": "add47b0bb30742eeab01dc6a4b2d38dd",
       "version_major": 2,
       "version_minor": 0
      },
      "text/plain": [
       "Training epoch 81:   0%|          | 0/1000 [00:00<?, ?it/s]"
      ]
     },
     "metadata": {},
     "output_type": "display_data"
    },
    {
     "data": {
      "application/vnd.jupyter.widget-view+json": {
       "model_id": "278af58b809c4b1092b6d52f508c8c84",
       "version_major": 2,
       "version_minor": 0
      },
      "text/plain": [
       "Training epoch 82:   0%|          | 0/1000 [00:00<?, ?it/s]"
      ]
     },
     "metadata": {},
     "output_type": "display_data"
    },
    {
     "data": {
      "application/vnd.jupyter.widget-view+json": {
       "model_id": "c36c47a04b3f470991c12e7ebef4a1d8",
       "version_major": 2,
       "version_minor": 0
      },
      "text/plain": [
       "Training epoch 83:   0%|          | 0/1000 [00:00<?, ?it/s]"
      ]
     },
     "metadata": {},
     "output_type": "display_data"
    },
    {
     "data": {
      "application/vnd.jupyter.widget-view+json": {
       "model_id": "9147ba6b163b4a4886afb4c52c2f9ef3",
       "version_major": 2,
       "version_minor": 0
      },
      "text/plain": [
       "Training epoch 84:   0%|          | 0/1000 [00:00<?, ?it/s]"
      ]
     },
     "metadata": {},
     "output_type": "display_data"
    },
    {
     "data": {
      "application/vnd.jupyter.widget-view+json": {
       "model_id": "2c5cf7262be4410cbfb46eb658793852",
       "version_major": 2,
       "version_minor": 0
      },
      "text/plain": [
       "Training epoch 85:   0%|          | 0/1000 [00:00<?, ?it/s]"
      ]
     },
     "metadata": {},
     "output_type": "display_data"
    },
    {
     "data": {
      "application/vnd.jupyter.widget-view+json": {
       "model_id": "d6edc187732e418bb53e732e5cbf1428",
       "version_major": 2,
       "version_minor": 0
      },
      "text/plain": [
       "Training epoch 86:   0%|          | 0/1000 [00:00<?, ?it/s]"
      ]
     },
     "metadata": {},
     "output_type": "display_data"
    },
    {
     "data": {
      "application/vnd.jupyter.widget-view+json": {
       "model_id": "8473c2b964f4496d80286240494c85fe",
       "version_major": 2,
       "version_minor": 0
      },
      "text/plain": [
       "Training epoch 87:   0%|          | 0/1000 [00:00<?, ?it/s]"
      ]
     },
     "metadata": {},
     "output_type": "display_data"
    },
    {
     "data": {
      "application/vnd.jupyter.widget-view+json": {
       "model_id": "71949ea3f8304704b9e77b9be1f5c505",
       "version_major": 2,
       "version_minor": 0
      },
      "text/plain": [
       "Training epoch 88:   0%|          | 0/1000 [00:00<?, ?it/s]"
      ]
     },
     "metadata": {},
     "output_type": "display_data"
    },
    {
     "data": {
      "application/vnd.jupyter.widget-view+json": {
       "model_id": "761f7906c9064315bb972258d91d3077",
       "version_major": 2,
       "version_minor": 0
      },
      "text/plain": [
       "Training epoch 89:   0%|          | 0/1000 [00:00<?, ?it/s]"
      ]
     },
     "metadata": {},
     "output_type": "display_data"
    },
    {
     "data": {
      "application/vnd.jupyter.widget-view+json": {
       "model_id": "5695c5ee2c5a4535a6adf9ac01a66139",
       "version_major": 2,
       "version_minor": 0
      },
      "text/plain": [
       "Training epoch 90:   0%|          | 0/1000 [00:00<?, ?it/s]"
      ]
     },
     "metadata": {},
     "output_type": "display_data"
    },
    {
     "data": {
      "application/vnd.jupyter.widget-view+json": {
       "model_id": "66f136ad0458439e88907c962fe52a25",
       "version_major": 2,
       "version_minor": 0
      },
      "text/plain": [
       "Training epoch 91:   0%|          | 0/1000 [00:00<?, ?it/s]"
      ]
     },
     "metadata": {},
     "output_type": "display_data"
    },
    {
     "data": {
      "application/vnd.jupyter.widget-view+json": {
       "model_id": "88e3be76fe6646a7bff1a9c124cd7e38",
       "version_major": 2,
       "version_minor": 0
      },
      "text/plain": [
       "Training epoch 92:   0%|          | 0/1000 [00:00<?, ?it/s]"
      ]
     },
     "metadata": {},
     "output_type": "display_data"
    },
    {
     "data": {
      "application/vnd.jupyter.widget-view+json": {
       "model_id": "a70a98815da446b3bdc1faad1c14a1d2",
       "version_major": 2,
       "version_minor": 0
      },
      "text/plain": [
       "Training epoch 93:   0%|          | 0/1000 [00:00<?, ?it/s]"
      ]
     },
     "metadata": {},
     "output_type": "display_data"
    },
    {
     "data": {
      "application/vnd.jupyter.widget-view+json": {
       "model_id": "049d1650cb3e49dfa8a7e1ea2cad0e12",
       "version_major": 2,
       "version_minor": 0
      },
      "text/plain": [
       "Training epoch 94:   0%|          | 0/1000 [00:00<?, ?it/s]"
      ]
     },
     "metadata": {},
     "output_type": "display_data"
    },
    {
     "data": {
      "application/vnd.jupyter.widget-view+json": {
       "model_id": "a9a97785610b41bfb26c387bd9ca9457",
       "version_major": 2,
       "version_minor": 0
      },
      "text/plain": [
       "Training epoch 95:   0%|          | 0/1000 [00:00<?, ?it/s]"
      ]
     },
     "metadata": {},
     "output_type": "display_data"
    },
    {
     "data": {
      "application/vnd.jupyter.widget-view+json": {
       "model_id": "21c12130aa4848768c8ec0e9c544ba72",
       "version_major": 2,
       "version_minor": 0
      },
      "text/plain": [
       "Training epoch 96:   0%|          | 0/1000 [00:00<?, ?it/s]"
      ]
     },
     "metadata": {},
     "output_type": "display_data"
    },
    {
     "data": {
      "application/vnd.jupyter.widget-view+json": {
       "model_id": "9081870f405c4169b5c707bab93b894e",
       "version_major": 2,
       "version_minor": 0
      },
      "text/plain": [
       "Training epoch 97:   0%|          | 0/1000 [00:00<?, ?it/s]"
      ]
     },
     "metadata": {},
     "output_type": "display_data"
    },
    {
     "data": {
      "application/vnd.jupyter.widget-view+json": {
       "model_id": "ffd3015787ee4fe08bb8ab1f8e5e5ee4",
       "version_major": 2,
       "version_minor": 0
      },
      "text/plain": [
       "Training epoch 98:   0%|          | 0/1000 [00:00<?, ?it/s]"
      ]
     },
     "metadata": {},
     "output_type": "display_data"
    },
    {
     "data": {
      "application/vnd.jupyter.widget-view+json": {
       "model_id": "608426e731a64aedb988db882f22794b",
       "version_major": 2,
       "version_minor": 0
      },
      "text/plain": [
       "Training epoch 99:   0%|          | 0/1000 [00:00<?, ?it/s]"
      ]
     },
     "metadata": {},
     "output_type": "display_data"
    },
    {
     "data": {
      "application/vnd.jupyter.widget-view+json": {
       "model_id": "ea2da53e373649829e8383af552b8e5b",
       "version_major": 2,
       "version_minor": 0
      },
      "text/plain": [
       "Training epoch 100:   0%|          | 0/1000 [00:00<?, ?it/s]"
      ]
     },
     "metadata": {},
     "output_type": "display_data"
    },
    {
     "name": "stdout",
     "output_type": "stream",
     "text": [
      "Wall time: 11h 32min 26s\n"
     ]
    }
   ],
   "source": [
    "%%time\n",
    "\n",
    "for ep in range(1, epochs+1):\n",
    "        with tqdm(total=iterations_per_epoch, desc='Training epoch {}'.format(ep)) as p_bar:\n",
    "            losses = train_online_ml(model, optimizer, simulate_model, iterations_per_epoch, \n",
    "                                    batch_size, p_bar, clip_value=clip_value, \n",
    "                                    global_step=global_step, transform=add_noise_var)\n",
    "\n",
    "            # Store checkpoint\n",
    "            manager.save()\n",
    "            \n",
    "\n",
    "    \n",
    "        \n",
    "        "
   ]
  },
  {
   "cell_type": "markdown",
   "metadata": {},
   "source": [
    "## Evaluate the trained model"
   ]
  },
  {
   "cell_type": "markdown",
   "metadata": {},
   "source": [
    "### Posterior means (recovery)"
   ]
  },
  {
   "cell_type": "code",
   "execution_count": 14,
   "metadata": {},
   "outputs": [
    {
     "data": {
      "image/png": "[encoded data removed]",
      "text/plain": [
       "<Figure size 720x216 with 5 Axes>"
      ]
     },
     "metadata": {
      "needs_background": "light"
     },
     "output_type": "display_data"
    }
   ],
   "source": [
    "plot_true_est_scatter(model, X_test, theta_test, n_samples_posterior, param_names[:5], \n",
    "                      figsize=(10, 3), filename='Model')"
   ]
  },
  {
   "cell_type": "markdown",
   "metadata": {},
   "source": [
    "Load the observed battery capacity data"
   ]
  },
  {
   "cell_type": "code",
   "execution_count": 20,
   "metadata": {},
   "outputs": [
    {
     "data": {
      "image/png": "[encoded data removed]",
      "text/plain": [
       "<Figure size 432x288 with 1 Axes>"
      ]
     },
     "metadata": {
      "needs_background": "light"
     },
     "output_type": "display_data"
    }
   ],
   "source": [
    "def load_battery(filename):\n",
    "    # data is stored as a hierarchy of structs\n",
    "    # we load with `squeeze_me` to simplify things a little\n",
    "    data = loadmat(filename, squeeze_me=True)\n",
    "\n",
    "    # the root variable is the name of the battery set\n",
    "    # the next key is `cycle`\n",
    "    # `squeeze_me` ends up with a 0-dim array somehow\n",
    "    # so we index with and empty tuple to get the data\n",
    "    events = data[list(data.keys())[-1]][\"cycle\"][()]\n",
    "\n",
    "    # only the discharge events have the capacity data\n",
    "    discharge_capacities = [\n",
    "        e[\"data\"][\"Capacity\"][()] for e in events if e[\"type\"] == \"discharge\"\n",
    "    ]\n",
    "\n",
    "    # convert it back to an np.array\n",
    "    discharge_capacities = np.array(discharge_capacities)\n",
    "    # convert capacity to percentage\n",
    "    discharge_capacities /= discharge_capacities[0]\n",
    "    return discharge_capacities\n",
    "\n",
    "\n",
    "filename1 = r\"C:\\Users\\lra240\\Desktop\\2-Summer research 2022\\6-Data\\BatteryAgingARC-FY08Q4\\B0005.mat\"\n",
    "filename2 = r\"C:\\Users\\lra240\\Desktop\\2-Summer research 2022\\6-Data\\BatteryAgingARC-FY08Q4\\B0006.mat\"\n",
    "filename3 = r\"C:\\Users\\lra240\\Desktop\\2-Summer research 2022\\6-Data\\BatteryAgingARC-FY08Q4\\B0007.mat\"\n",
    "filename4 = r\"C:\\Users\\lra240\\Desktop\\2-Summer research 2022\\6-Data\\BatteryAgingARC-FY08Q4\\B0018.mat\"\n",
    "\n",
    "\n",
    "data1 = load_battery(filename1)\n",
    "data2 = load_battery(filename2)\n",
    "data3 = load_battery(filename3)\n",
    "data4 = load_battery(filename4)\n",
    "\n",
    "\n",
    "plt.plot(data1, label='Battery-5')\n",
    "plt.plot(data2, label='Battery-6')\n",
    "plt.plot(data3, label='Battery-7')\n",
    "plt.plot(data4, label='Battery-18')\n",
    "plt.title(\"NASA lithium-ion battery dataset\")\n",
    "plt.xlabel('Cycle')\n",
    "plt.ylabel('Capacity(Normalized)')\n",
    "plt.legend()\n",
    "plt.grid()\n",
    "plt.show()\n",
    "\n",
    "\n",
    "#tf.convert_to_tensor(X[:, :], dtype=tf.float32)"
   ]
  },
  {
   "cell_type": "code",
   "execution_count": 143,
   "metadata": {},
   "outputs": [
    {
     "name": "stdout",
     "output_type": "stream",
     "text": [
      "tensor([1.0000, 0.9945, 0.9886, 0.9886, 0.9882, 0.9888, 0.9885, 0.9834, 0.9829,\n",
      "        0.9828, 0.9828, 0.9772, 0.9770, 0.9768, 0.9710, 0.9707, 0.9710, 0.9712,\n",
      "        0.9711, 0.9949, 0.9951, 0.9891, 0.9835, 0.9831, 0.9834, 0.9771, 0.9775,\n",
      "        0.9771, 0.9711, 0.9718, 0.9975, 0.9861, 0.9803, 0.9746, 0.9721, 0.9692,\n",
      "        0.9633, 0.9604, 0.9550, 0.9550, 0.9523, 0.9493, 0.9521, 0.9495, 0.9436,\n",
      "        0.9383, 0.9351, 0.9661, 0.9605, 0.9520, 0.9464, 0.9410, 0.9382, 0.9353,\n",
      "        0.9299, 0.9242, 0.9214, 0.9189, 0.9159, 0.9128, 0.9076, 0.9020, 0.9020,\n",
      "        0.8962, 0.8936, 0.8909, 0.8848, 0.8822, 0.8795, 0.8768, 0.8738, 0.8679,\n",
      "        0.8654, 0.8627, 0.8567, 0.8542, 0.8537, 0.8594, 0.8482, 0.8429, 0.8402,\n",
      "        0.8400, 0.8374, 0.8343, 0.8286, 0.8230, 0.8233, 0.8202, 0.8174, 0.8650,\n",
      "        0.8424, 0.8339, 0.8254, 0.8225, 0.8171, 0.8144, 0.8115, 0.8088, 0.8030,\n",
      "        0.8004, 0.7974, 0.7946, 0.8004, 0.8059, 0.7976, 0.7917, 0.7831, 0.7833,\n",
      "        0.7838, 0.7805, 0.7749, 0.7721, 0.7721, 0.7692, 0.7665, 0.7635, 0.7608,\n",
      "        0.7609, 0.7582, 0.7721, 0.7747, 0.7635, 0.7579, 0.7548, 0.7523, 0.7494,\n",
      "        0.7467, 0.7436, 0.7408, 0.7382, 0.7382, 0.7351, 0.7409, 0.7466, 0.7379,\n",
      "        0.7351, 0.7295, 0.7297, 0.7297, 0.7268, 0.7240, 0.7212, 0.7212, 0.7186,\n",
      "        0.7157, 0.7127, 0.7100, 0.7102, 0.7101, 0.7131, 0.7326, 0.7215, 0.7159,\n",
      "        0.7130, 0.7103, 0.7075, 0.7074, 0.7044, 0.7019, 0.7021, 0.7021, 0.6991,\n",
      "        0.6992, 0.6967, 0.6938, 0.6935, 0.7051, 0.7138], dtype=torch.float64)\n",
      "tf.Tensor([168], shape=(1,), dtype=int32)\n",
      "[[[0.7062944  2.7527997  0.07527526 0.02051849 1.659217  ]\n",
      "  [1.3113624  2.7209353  0.09556528 0.01528329 1.1054118 ]\n",
      "  [1.3090788  3.6175587  0.07127836 0.0325063  1.9863799 ]\n",
      "  [1.0973289  2.762288   0.08655105 0.02478184 1.8137599 ]\n",
      "  [1.2392108  2.7151396  0.05842609 0.021083   1.157817  ]\n",
      "  [1.0751386  2.5638256  0.05560882 0.01140781 1.2048064 ]\n",
      "  [1.0678346  3.6156323  0.08525436 0.03183639 1.2447352 ]\n",
      "  [1.2333795  3.1487725  0.07406361 0.01781919 2.027101  ]\n",
      "  [0.7874494  3.0607433  0.07317609 0.02074689 1.5341594 ]\n",
      "  [1.1426791  3.2670288  0.06479247 0.0173956  0.8326821 ]\n",
      "  [1.4360789  2.3275309  0.10027348 0.0353171  1.7880418 ]\n",
      "  [0.87684137 2.5581443  0.0997216  0.03040441 1.2714859 ]\n",
      "  [1.4229697  2.2589219  0.06996039 0.01790053 1.6083112 ]\n",
      "  [1.3178006  2.496826   0.09312905 0.01931825 1.6019791 ]\n",
      "  [0.6815247  3.1777253  0.08005966 0.02358507 1.0919315 ]\n",
      "  [1.0636779  3.3499424  0.07102372 0.02174434 1.9642925 ]\n",
      "  [0.7041189  3.598555   0.05658373 0.02834364 1.5735738 ]\n",
      "  [1.0791676  2.815822   0.04889369 0.01988206 1.0515916 ]\n",
      "  [1.4617759  2.0932963  0.08877995 0.03514145 1.4418588 ]\n",
      "  [1.3638762  3.7829347  0.03848144 0.03039634 1.3745215 ]\n",
      "  [0.9888834  2.8026648  0.1081294  0.02909518 1.789068  ]\n",
      "  [1.2350544  2.8560565  0.07507084 0.03634537 1.6615368 ]\n",
      "  [0.97532886 2.4802482  0.07515123 0.02633805 1.406031  ]\n",
      "  [1.1907945  3.4041681  0.07528508 0.03720081 1.3495502 ]\n",
      "  [1.3976061  3.643133   0.06219156 0.03241161 1.0561229 ]\n",
      "  [1.5277561  2.5180516  0.08015467 0.02696575 1.3703443 ]\n",
      "  [1.3099178  3.1562269  0.07155601 0.02102675 1.3069674 ]\n",
      "  [0.85216075 3.3969676  0.01747662 0.03291472 1.5313842 ]\n",
      "  [1.2004164  3.0892305  0.05594704 0.03600761 1.5325208 ]\n",
      "  [0.93676615 4.014033   0.06347823 0.03098555 1.2718983 ]\n",
      "  [1.1615593  2.9863045  0.09613318 0.01440728 1.2549183 ]\n",
      "  [1.1400917  2.4564042  0.09390433 0.02017054 1.536386  ]\n",
      "  [1.232829   2.8814435  0.08991205 0.02539467 1.3305051 ]\n",
      "  [0.9414673  2.2290473  0.08565344 0.0174398  1.3805016 ]\n",
      "  [1.3103414  3.0967784  0.07508578 0.03274937 1.2126921 ]\n",
      "  [0.9823698  2.764667   0.07511391 0.0316753  2.06255   ]\n",
      "  [0.9985822  3.0552366  0.0828958  0.0365904  1.5969741 ]\n",
      "  [1.0821095  3.232124   0.05363768 0.02070929 1.2919409 ]\n",
      "  [0.7487368  3.2173154  0.09212696 0.02757458 1.3119042 ]\n",
      "  [1.507959   2.6686554  0.06873632 0.02095017 1.0142996 ]\n",
      "  [0.9582008  2.6119816  0.06911279 0.0225066  1.8761394 ]\n",
      "  [1.3261212  2.9716377  0.03700036 0.01464156 0.9226432 ]\n",
      "  [1.272882   2.7447362  0.08596615 0.03329733 1.8708417 ]\n",
      "  [1.6207939  3.226723   0.08160862 0.02979007 1.6170748 ]\n",
      "  [1.7276529  3.1080816  0.08493486 0.03401596 1.1357269 ]\n",
      "  [0.79670405 2.5706763  0.06407657 0.03230404 0.8474463 ]\n",
      "  [1.4104277  2.8650925  0.08300519 0.02707314 1.7381059 ]\n",
      "  [1.7033453  2.401907   0.0440404  0.03376382 1.4963452 ]\n",
      "  [1.1965798  3.116783   0.06893612 0.02052849 1.6772506 ]\n",
      "  [0.9373496  3.6887817  0.04359933 0.01880403 1.6549159 ]\n",
      "  [1.8102425  2.973197   0.09213924 0.04228702 1.8622462 ]\n",
      "  [1.6636463  3.0033784  0.04850765 0.04102199 1.1111777 ]\n",
      "  [0.2910427  2.4162154  0.07411154 0.01660371 1.2510657 ]\n",
      "  [1.3556328  2.679765   0.08339453 0.02622674 1.8074794 ]\n",
      "  [1.153115   3.4969995  0.1017355  0.016167   1.7024301 ]\n",
      "  [1.0115305  3.686308   0.06056541 0.02191195 1.0101471 ]\n",
      "  [1.4115787  3.1876476  0.06605152 0.02363926 1.4325914 ]\n",
      "  [1.4926167  3.929169   0.06391753 0.01319484 1.4359497 ]\n",
      "  [1.7240765  2.638626   0.07851826 0.0217265  1.901624  ]\n",
      "  [1.2270187  2.4984055  0.08433425 0.02940462 1.3327967 ]\n",
      "  [1.7411563  2.8552186  0.08922403 0.0168851  1.4422553 ]\n",
      "  [1.1944588  3.3157923  0.07510489 0.0202592  1.8019196 ]\n",
      "  [1.2587504  2.6381254  0.08625393 0.03058403 1.2090423 ]\n",
      "  [1.0563984  2.6072688  0.07447407 0.01830761 2.0592217 ]\n",
      "  [1.0295197  2.3752944  0.06440093 0.01724095 1.5089087 ]\n",
      "  [1.444314   3.3012838  0.06325065 0.04042333 1.8408616 ]\n",
      "  [0.9357245  3.5086105  0.05441551 0.02838487 1.120857  ]\n",
      "  [1.1033168  3.4678743  0.0965047  0.02732971 1.6854672 ]\n",
      "  [0.92294353 2.4534123  0.09228352 0.02816424 1.2033852 ]\n",
      "  [1.2687613  2.4634833  0.06180673 0.01733255 1.2332476 ]\n",
      "  [1.0840214  2.5644152  0.08202791 0.01421335 1.5834202 ]\n",
      "  [1.1672075  3.1348836  0.07242658 0.04079831 1.6127533 ]\n",
      "  [1.1880137  3.067829   0.06745797 0.04109051 1.9654328 ]\n",
      "  [0.8953287  3.7561939  0.05990635 0.02953012 1.2433027 ]\n",
      "  [1.3685049  3.1346006  0.07393536 0.01541645 1.1478    ]\n",
      "  [0.6958794  2.4088194  0.06897438 0.02395801 0.9790366 ]\n",
      "  [0.7828741  2.7925951  0.05749751 0.01114785 1.4437269 ]\n",
      "  [0.59073085 2.647633   0.06004404 0.00830799 1.3608195 ]\n",
      "  [1.4715406  3.286847   0.04875247 0.0224358  1.4941922 ]\n",
      "  [1.5555406  2.9249218  0.07990345 0.03430251 1.5369581 ]\n",
      "  [1.1177721  2.5209596  0.07981305 0.01917137 1.5564679 ]\n",
      "  [0.9061114  2.9672115  0.05383669 0.03197772 1.6248024 ]\n",
      "  [1.6593766  2.976347   0.08724894 0.01701779 1.3762245 ]\n",
      "  [1.2695507  3.2214057  0.0793303  0.02636181 1.5243151 ]\n",
      "  [0.9107071  2.8125036  0.08145479 0.02276031 1.5873512 ]\n",
      "  [0.67570466 3.7100012  0.05044603 0.03032709 1.6028442 ]\n",
      "  [0.8972029  2.894985   0.04776388 0.03636696 1.328632  ]\n",
      "  [1.7110274  2.7572503  0.0722326  0.01645773 1.3320087 ]\n",
      "  [1.5251963  2.9734921  0.07485335 0.02181611 1.5503298 ]\n",
      "  [1.75713    3.8330498  0.03927091 0.01332801 1.0715187 ]\n",
      "  [1.2644695  2.694244   0.08934772 0.02650742 1.3367411 ]\n",
      "  [0.9584299  2.7753127  0.06945378 0.02285346 1.0768889 ]\n",
      "  [1.537209   3.52286    0.07290709 0.01533244 1.3512845 ]\n",
      "  [1.2926911  2.2734861  0.04489855 0.02261759 1.0021795 ]\n",
      "  [1.5117837  2.4929364  0.07807758 0.02064751 1.1379201 ]\n",
      "  [1.4849672  3.0630422  0.09493221 0.0333191  1.7755672 ]\n",
      "  [0.9681536  3.3440523  0.07861882 0.0288044  1.0631479 ]\n",
      "  [0.8538997  2.2057643  0.07979491 0.02471013 1.3949008 ]\n",
      "  [1.2670662  3.274471   0.07627693 0.03376498 1.7378144 ]\n",
      "  [1.0015553  2.6713367  0.06398975 0.03509149 1.1081065 ]\n",
      "  [1.3465176  2.4542954  0.05535512 0.01848346 2.4401965 ]\n",
      "  [1.2017359  2.7324817  0.08804222 0.00799604 1.9371333 ]\n",
      "  [1.1510754  3.1666586  0.07495601 0.01504144 1.9755032 ]\n",
      "  [1.0613064  3.267766   0.0588669  0.0203178  1.7348422 ]\n",
      "  [1.3374947  2.2149634  0.07289577 0.0335875  1.6449502 ]\n",
      "  [1.1835527  2.8730109  0.08033211 0.02794719 1.0599852 ]\n",
      "  [0.86081976 3.312161   0.07757639 0.02661682 1.3878534 ]\n",
      "  [1.4830174  1.9788501  0.0739442  0.01819024 1.2050844 ]\n",
      "  [1.3699157  3.5098693  0.08752397 0.03294758 1.3800153 ]\n",
      "  [1.2451178  2.1135285  0.07107633 0.03113134 1.353858  ]\n",
      "  [1.3959916  2.9856215  0.07328258 0.018463   1.2224832 ]\n",
      "  [0.9737383  2.5425613  0.08551627 0.03142102 0.945566  ]\n",
      "  [1.0012071  2.714096   0.07366506 0.02319781 1.6244835 ]\n",
      "  [1.3882684  3.1400187  0.07174633 0.02374849 1.8245116 ]\n",
      "  [1.2692366  2.2877846  0.0719445  0.02889203 1.2492605 ]\n",
      "  [1.5437416  3.1078036  0.04941009 0.03616076 1.2216101 ]\n",
      "  [1.1623449  2.933565   0.05854003 0.02674901 1.6499368 ]\n",
      "  [1.0080922  3.2319386  0.08092012 0.01346684 1.1246678 ]\n",
      "  [1.1450874  3.663465   0.05282458 0.01935948 1.4801348 ]\n",
      "  [1.340404   2.82269    0.07385166 0.03806086 1.7718745 ]\n",
      "  [1.4625334  2.737265   0.08701331 0.03725766 1.41922   ]\n",
      "  [1.0464685  2.4091241  0.07596141 0.03730013 1.5630577 ]\n",
      "  [1.1963379  3.7046344  0.04285511 0.02672297 1.7776555 ]\n",
      "  [1.2703553  2.2500453  0.05611996 0.01874529 1.5608671 ]\n",
      "  [0.8369647  2.0429993  0.06868162 0.01611723 1.9520313 ]\n",
      "  [1.0422444  3.0359566  0.08269228 0.03988406 1.6619245 ]\n",
      "  [1.259202   2.4517832  0.06205333 0.04305264 1.4764909 ]\n",
      "  [1.187887   3.1459167  0.06993566 0.0103431  1.2772249 ]\n",
      "  [1.1328254  2.850156   0.05234569 0.02237744 1.498031  ]\n",
      "  [0.67520535 2.149388   0.09588673 0.04072873 1.1215507 ]\n",
      "  [0.81520927 2.7428608  0.07984217 0.03594422 1.2209917 ]\n",
      "  [0.6217425  3.887078   0.07416422 0.03104914 1.6073573 ]\n",
      "  [1.5454006  3.0882046  0.06738302 0.03041579 1.3584503 ]\n",
      "  [1.0757647  2.590425   0.06969666 0.02429123 1.4165921 ]\n",
      "  [1.7466917  2.9463675  0.08443086 0.02991094 1.5782212 ]\n",
      "  [1.1880723  2.350601   0.10278602 0.03487575 1.3220422 ]\n",
      "  [1.2688403  3.2588336  0.03112189 0.02462945 1.3248814 ]\n",
      "  [0.8764735  1.9134849  0.08702986 0.02154364 1.4811088 ]\n",
      "  [1.7159951  2.8863418  0.07224054 0.03066842 1.6278182 ]\n",
      "  [1.3677783  3.4404926  0.0648438  0.02078175 1.5817469 ]\n",
      "  [0.91747    3.292915   0.07176799 0.01232401 0.90413386]\n",
      "  [1.4595509  2.6057951  0.0699371  0.02356533 1.5859419 ]\n",
      "  [1.247727   2.9921527  0.09111703 0.03679079 1.7699782 ]\n",
      "  [1.2333506  3.8929017  0.08959754 0.01824669 1.4962852 ]\n",
      "  [1.0066245  2.8478277  0.09293212 0.03067135 1.2489892 ]\n",
      "  [1.0042663  2.3858664  0.08161541 0.02414697 1.7217968 ]\n",
      "  [1.3022825  2.8086283  0.074577   0.02857314 1.3070561 ]\n",
      "  [0.7061563  2.5016835  0.09090232 0.02624968 1.442618  ]\n",
      "  [1.7202326  3.0050495  0.06882172 0.01020085 1.0537758 ]\n",
      "  [0.89600265 2.9033096  0.09516554 0.03317082 1.4635541 ]\n",
      "  [1.3067819  2.9783676  0.06023373 0.0200623  1.246269  ]\n",
      "  [1.9786073  3.0498552  0.07654421 0.05272115 1.1906749 ]\n",
      "  [1.2190089  3.1100824  0.05816397 0.03110212 1.8860182 ]\n",
      "  [1.1239369  3.0006526  0.08720344 0.02808401 1.739765  ]\n",
      "  [1.2958364  2.3521225  0.07062817 0.02336094 1.3877041 ]\n",
      "  [1.1634306  2.6066701  0.07578874 0.00674892 1.4046414 ]\n",
      "  [0.9195551  2.538593   0.05536797 0.01681616 1.3905678 ]\n",
      "  [1.100393   2.908089   0.0994048  0.01841985 1.5286789 ]\n",
      "  [1.1128982  3.2714603  0.06777832 0.0131363  1.8075249 ]\n",
      "  [1.3401852  2.7762887  0.05136306 0.02738703 1.6959832 ]\n",
      "  [0.797406   3.6074069  0.05085219 0.01906559 1.4350511 ]\n",
      "  [0.62607354 3.5280592  0.08039267 0.03248301 1.8326198 ]\n",
      "  [1.3135225  3.5814416  0.11209201 0.02522982 1.1744142 ]\n",
      "  [0.9855503  3.54391    0.06866173 0.01517236 1.9469838 ]\n",
      "  [0.6002988  2.7261925  0.06524898 0.01543853 1.667085  ]\n",
      "  [0.75946134 2.8226595  0.06454605 0.02219767 1.462167  ]\n",
      "  [0.91886145 3.5888982  0.08157876 0.01964043 1.7710091 ]\n",
      "  [1.6322153  3.1251311  0.07761741 0.03320947 1.8934683 ]]]\n"
     ]
    }
   ],
   "source": [
    "#Pedict the model:\n",
    "\n",
    "#observed data converted to tensor\n",
    "#data = tf.convert_to_tensor(data1, dtype=tf.float32)\n",
    "data = torch.tensor(data1, dtype=torch.float64)\n",
    "print(data)\n",
    "\n",
    "#get the output smaples of posterior\n",
    "p_aproximate = model.sample( data, n_samples = 1, to_numpy=True, training=False)\n",
    "print(tf.shape(data))\n",
    "print(p_aproximate)\n"
   ]
  },
  {
   "cell_type": "code",
   "execution_count": 128,
   "metadata": {},
   "outputs": [
    {
     "name": "stdout",
     "output_type": "stream",
     "text": [
      "[0.07920344]\n",
      "tensor([1.4634], dtype=torch.float64)\n",
      "tensor([0.0792], dtype=torch.float64)\n"
     ]
    }
   ],
   "source": [
    "#test code C\n",
    "'''\n",
    "predRange = np.arange(101,168,1)\n",
    "print(predRange)\n",
    "\n",
    "state_history = torch.zeros((len(predRange),))\n",
    "print(state_history)\n",
    "measurement_history = torch.zeros((len(predRange),))\n",
    "print(measurement_history)\n",
    "\n",
    "\n",
    "print(round(1 / 0.012))\n",
    "print(1 / 0.012)\n",
    "'''\n",
    "\n",
    "\n",
    "i = 10\n",
    "\n",
    "print(p_aproximate[:,i,2])\n",
    "\n",
    "param_a = torch.tensor(p_aproximate[:,i,0], dtype=torch.float64)\n",
    "print(param_a)\n",
    "poisson_rate = torch.tensor(p_aproximate[:,i,2], dtype=torch.float64)\n",
    "print(poisson_rate)"
   ]
  },
  {
   "cell_type": "code",
   "execution_count": 35,
   "metadata": {},
   "outputs": [
    {
     "name": "stdout",
     "output_type": "stream",
     "text": [
      "<class 'numpy.ndarray'>\n"
     ]
    }
   ],
   "source": [
    "import argparse\n",
    "import json\n",
    "import numpy as np\n",
    "import os\n",
    "import pyro\n",
    "import pyro.distributions as dist\n",
    "import torch\n",
    "from dataset import load_battery\n",
    "import time\n"
   ]
  },
  {
   "cell_type": "code",
   "execution_count": 151,
   "metadata": {},
   "outputs": [],
   "source": [
    "#test code C\n",
    "\n",
    "import argparse\n",
    "import json\n",
    "import numpy as np\n",
    "import os\n",
    "import pyro\n",
    "import pyro.distributions as dist\n",
    "import torch\n",
    "from dataset import load_battery\n",
    "import time\n",
    "\n",
    "# title MCMC Batch Training w/ Regen\n",
    "pyro.set_rng_seed(1)\n",
    "\n",
    "\n",
    "def model_predict(data,N_est,p_aproximate,noise_std):\n",
    "            \n",
    "  \n",
    "    #length = len(data)-N_est # N_est - The point where the predication starts 101\n",
    "    predRange = np.arange(101,168,1)\n",
    "    state_history = torch.zeros((len(predRange),))\n",
    "    measurement_history = torch.zeros((len(predRange),))\n",
    "    \n",
    "    for i in predRange:        \n",
    "        param_a = torch.tensor(p_aproximate[:,i,0], dtype=torch.float64)\n",
    "        param_b = torch.tensor(p_aproximate[:,i,1], dtype=torch.float64)\n",
    "        poisson_rate = torch.tensor(p_aproximate[:,i,2], dtype=torch.float64)\n",
    "        #poisson_rate_int = poisson_rate.item()\n",
    "        regen_gamma_beta = torch.tensor(p_aproximate[:,i,3], dtype=torch.float64)\n",
    "        regen_gamma_mu = torch.tensor(p_aproximate[:,i,4], dtype=torch.float64)\n",
    "        Ri = np.random.gamma(regen_gamma_beta.item(), regen_gamma_mu.item())\n",
    "        \n",
    "        if i == 0:\n",
    "            x_prediction = torch.tensor(1.0)\n",
    "        elif i % round(1 / poisson_rate) == 0:\n",
    "            x_prediction = (state_history[i - 1]- (param_a * param_b * i) / (10000 + (param_b * i) ** 2) + Ri)\n",
    "        else:\n",
    "            x_prediction = state_history[i - 1] - (param_a * param_b * i) / (10000 + (param_b * i) ** 2)\n",
    "            \n",
    "        next_observed = pyro.sample(f\"meas_{i}\", dist.Normal(x_prediction, torch.tensor(noise_std)))\n",
    "\n",
    "        state_history[i] = x_prediction\n",
    "        measurement_history[i] = next_observed\n",
    "            \n",
    "        return state_history,measurement_history"
   ]
  },
  {
   "cell_type": "code",
   "execution_count": 149,
   "metadata": {},
   "outputs": [
    {
     "ename": "TypeError",
     "evalue": "type Tensor doesn't define __round__ method",
     "output_type": "error",
     "traceback": [
      "\u001b[1;31m---------------------------------------------------------------------------\u001b[0m",
      "\u001b[1;31mTypeError\u001b[0m                                 Traceback (most recent call last)",
      "\u001b[1;32m~\\AppData\\Local\\Temp/ipykernel_21984/1252327847.py\u001b[0m in \u001b[0;36m<module>\u001b[1;34m\u001b[0m\n\u001b[0;32m      1\u001b[0m \u001b[1;31m#test code C\u001b[0m\u001b[1;33m\u001b[0m\u001b[1;33m\u001b[0m\u001b[0m\n\u001b[1;32m----> 2\u001b[1;33m \u001b[0mstate_history\u001b[0m\u001b[1;33m,\u001b[0m\u001b[0mmeasurement_history\u001b[0m \u001b[1;33m=\u001b[0m \u001b[0mmodel_predict\u001b[0m\u001b[1;33m(\u001b[0m\u001b[0mdata\u001b[0m\u001b[1;33m,\u001b[0m \u001b[1;36m100\u001b[0m\u001b[1;33m,\u001b[0m \u001b[0mp_aproximate\u001b[0m\u001b[1;33m,\u001b[0m \u001b[1;36m0.001\u001b[0m\u001b[1;33m)\u001b[0m\u001b[1;33m\u001b[0m\u001b[1;33m\u001b[0m\u001b[0m\n\u001b[0m\u001b[0;32m      3\u001b[0m \u001b[0mprint\u001b[0m\u001b[1;33m(\u001b[0m\u001b[0mtf\u001b[0m\u001b[1;33m.\u001b[0m\u001b[0mshape\u001b[0m\u001b[1;33m(\u001b[0m\u001b[0mstate_history\u001b[0m\u001b[1;33m)\u001b[0m\u001b[1;33m)\u001b[0m\u001b[1;33m\u001b[0m\u001b[1;33m\u001b[0m\u001b[0m\n\u001b[0;32m      4\u001b[0m \u001b[0mprint\u001b[0m\u001b[1;33m(\u001b[0m\u001b[0mmeasurement_history\u001b[0m\u001b[1;33m)\u001b[0m\u001b[1;33m\u001b[0m\u001b[1;33m\u001b[0m\u001b[0m\n\u001b[0;32m      5\u001b[0m \u001b[0mplt\u001b[0m\u001b[1;33m.\u001b[0m\u001b[0mplot\u001b[0m\u001b[1;33m(\u001b[0m\u001b[0mstate_history\u001b[0m\u001b[1;33m)\u001b[0m\u001b[1;33m\u001b[0m\u001b[1;33m\u001b[0m\u001b[0m\n",
      "\u001b[1;32m~\\AppData\\Local\\Temp/ipykernel_21984/1717300731.py\u001b[0m in \u001b[0;36mmodel_predict\u001b[1;34m(data, N_est, p_aproximate, noise_std)\u001b[0m\n\u001b[0;32m     34\u001b[0m         \u001b[1;32mif\u001b[0m \u001b[0mi\u001b[0m \u001b[1;33m==\u001b[0m \u001b[1;36m0\u001b[0m\u001b[1;33m:\u001b[0m\u001b[1;33m\u001b[0m\u001b[1;33m\u001b[0m\u001b[0m\n\u001b[0;32m     35\u001b[0m             \u001b[0mx_prediction\u001b[0m \u001b[1;33m=\u001b[0m \u001b[0mtorch\u001b[0m\u001b[1;33m.\u001b[0m\u001b[0mtensor\u001b[0m\u001b[1;33m(\u001b[0m\u001b[1;36m1.0\u001b[0m\u001b[1;33m)\u001b[0m\u001b[1;33m\u001b[0m\u001b[1;33m\u001b[0m\u001b[0m\n\u001b[1;32m---> 36\u001b[1;33m         \u001b[1;32melif\u001b[0m \u001b[0mi\u001b[0m \u001b[1;33m%\u001b[0m \u001b[0mround\u001b[0m\u001b[1;33m(\u001b[0m\u001b[1;36m1\u001b[0m \u001b[1;33m/\u001b[0m \u001b[0mpoisson_rate\u001b[0m\u001b[1;33m)\u001b[0m \u001b[1;33m==\u001b[0m \u001b[1;36m0\u001b[0m\u001b[1;33m:\u001b[0m\u001b[1;33m\u001b[0m\u001b[1;33m\u001b[0m\u001b[0m\n\u001b[0m\u001b[0;32m     37\u001b[0m             \u001b[0mx_prediction\u001b[0m \u001b[1;33m=\u001b[0m \u001b[1;33m(\u001b[0m\u001b[0mstate_history\u001b[0m\u001b[1;33m[\u001b[0m\u001b[0mi\u001b[0m \u001b[1;33m-\u001b[0m \u001b[1;36m1\u001b[0m\u001b[1;33m]\u001b[0m\u001b[1;33m-\u001b[0m \u001b[1;33m(\u001b[0m\u001b[0mparam_a\u001b[0m \u001b[1;33m*\u001b[0m \u001b[0mparam_b\u001b[0m \u001b[1;33m*\u001b[0m \u001b[0mi\u001b[0m\u001b[1;33m)\u001b[0m \u001b[1;33m/\u001b[0m \u001b[1;33m(\u001b[0m\u001b[1;36m10000\u001b[0m \u001b[1;33m+\u001b[0m \u001b[1;33m(\u001b[0m\u001b[0mparam_b\u001b[0m \u001b[1;33m*\u001b[0m \u001b[0mi\u001b[0m\u001b[1;33m)\u001b[0m \u001b[1;33m**\u001b[0m \u001b[1;36m2\u001b[0m\u001b[1;33m)\u001b[0m \u001b[1;33m+\u001b[0m \u001b[0mRi\u001b[0m\u001b[1;33m)\u001b[0m\u001b[1;33m\u001b[0m\u001b[1;33m\u001b[0m\u001b[0m\n\u001b[0;32m     38\u001b[0m         \u001b[1;32melse\u001b[0m\u001b[1;33m:\u001b[0m\u001b[1;33m\u001b[0m\u001b[1;33m\u001b[0m\u001b[0m\n",
      "\u001b[1;31mTypeError\u001b[0m: type Tensor doesn't define __round__ method"
     ]
    }
   ],
   "source": [
    "#test code C\n",
    "state_history,measurement_history = model_predict(data, 100, p_aproximate, 0.001)\n",
    "print(tf.shape(state_history))\n",
    "print(measurement_history)\n",
    "plt.plot(state_history)\n",
    "plt.plot(measurement_history)"
   ]
  },
  {
   "cell_type": "code",
   "execution_count": 137,
   "metadata": {},
   "outputs": [],
   "source": [
    "import argparse\n",
    "import json\n",
    "import numpy as np\n",
    "import os\n",
    "import pyro\n",
    "import pyro.distributions as dist\n",
    "import torch\n",
    "from dataset import load_battery\n",
    "import time\n",
    "\n",
    "# title MCMC Batch Training w/ Regen\n",
    "pyro.set_rng_seed(1)\n",
    "\n",
    "\n",
    "def model_predict(data,N_est,p_aproximate,noise_std):\n",
    "\n",
    "    param_a = torch.tensor(p_aproximate[:,1,0], dtype=torch.float64)\n",
    "    param_b = torch.tensor(p_aproximate[:,1,1], dtype=torch.float64)\n",
    "    poisson_rate = torch.tensor(p_aproximate[:,1,2], dtype=torch.float64)\n",
    "    #poisson_rate_int = poisson_rate.item()\n",
    "    regen_gamma_beta = torch.tensor(p_aproximate[:,1,3], dtype=torch.float64)\n",
    "    regen_gamma_mu = torch.tensor(p_aproximate[:,1,4], dtype=torch.float64)\n",
    "    Ri = np.random.gamma(regen_gamma_beta.item(), regen_gamma_mu.item())       \n",
    "  \n",
    "    length = len(data)-N_est\n",
    "    \n",
    "    state_history = torch.zeros((length,))\n",
    "    measurement_history = torch.zeros((length,))\n",
    "    \n",
    "    for i in range(length):\n",
    "        '''\n",
    "        param_a = torch.tensor(p_aproximate[:,length+i,0], dtype=torch.int32)\n",
    "        param_b = torch.tensor(p_aproximate[:,length+i,1], dtype=torch.int32)\n",
    "        poisson_rate = torch.tensor(p_aproximate[:,length+i,2], dtype=torch.int32)\n",
    "        #poisson_rate_int = poisson_rate.item()\n",
    "        regen_gamma_beta = torch.tensor(p_aproximate[:,length+i,3], dtype=torch.int32)\n",
    "        regen_gamma_mu = torch.tensor(p_aproximate[:,length+i,4], dtype=torch.int32)\n",
    "        Ri = np.random.gamma(regen_gamma_beta.item(), regen_gamma_mu.item())\n",
    "        '''\n",
    "        if i == 0:\n",
    "            x_prediction = torch.tensor(1.0)\n",
    "        elif i % round(1 / poisson_rate) == 0:\n",
    "            x_prediction = (state_history[i - 1]- (param_a * param_b * i) / (10000 + (param_b * i) ** 2) + Ri)\n",
    "        else:\n",
    "            x_prediction = state_history[i - 1] - (param_a * param_b * i) / (10000 + (param_b * i) ** 2)\n",
    "            \n",
    "        next_observed = pyro.sample(f\"meas_{i}\", dist.Normal(x_prediction, torch.tensor(noise_std)))\n",
    "\n",
    "        state_history[i] = x_prediction\n",
    "        measurement_history[i] = next_observed\n",
    "            \n",
    "        return state_history,measurement_history\n",
    "\n"
   ]
  },
  {
   "cell_type": "code",
   "execution_count": 138,
   "metadata": {},
   "outputs": [
    {
     "name": "stdout",
     "output_type": "stream",
     "text": [
      "tf.Tensor([68], shape=(1,), dtype=int32)\n",
      "tensor([1.0007, 0.0000, 0.0000, 0.0000, 0.0000, 0.0000, 0.0000, 0.0000, 0.0000,\n",
      "        0.0000, 0.0000, 0.0000, 0.0000, 0.0000, 0.0000, 0.0000, 0.0000, 0.0000,\n",
      "        0.0000, 0.0000, 0.0000, 0.0000, 0.0000, 0.0000, 0.0000, 0.0000, 0.0000,\n",
      "        0.0000, 0.0000, 0.0000, 0.0000, 0.0000, 0.0000, 0.0000, 0.0000, 0.0000,\n",
      "        0.0000, 0.0000, 0.0000, 0.0000, 0.0000, 0.0000, 0.0000, 0.0000, 0.0000,\n",
      "        0.0000, 0.0000, 0.0000, 0.0000, 0.0000, 0.0000, 0.0000, 0.0000, 0.0000,\n",
      "        0.0000, 0.0000, 0.0000, 0.0000, 0.0000, 0.0000, 0.0000, 0.0000, 0.0000,\n",
      "        0.0000, 0.0000, 0.0000, 0.0000, 0.0000])\n"
     ]
    },
    {
     "data": {
      "text/plain": [
       "[<matplotlib.lines.Line2D at 0x23aa782a970>]"
      ]
     },
     "execution_count": 138,
     "metadata": {},
     "output_type": "execute_result"
    },
    {
     "data": {
      "image/png": "[encoded data removed]",
      "text/plain": [
       "<Figure size 432x288 with 1 Axes>"
      ]
     },
     "metadata": {
      "needs_background": "light"
     },
     "output_type": "display_data"
    }
   ],
   "source": [
    "state_history,measurement_history = model_predict(data,100, p_aproximate, 0.001)\n",
    "print(tf.shape(state_history))\n",
    "print(measurement_history)\n",
    "plt.plot(state_history)\n",
    "plt.plot(measurement_history)"
   ]
  },
  {
   "cell_type": "code",
   "execution_count": 23,
   "metadata": {},
   "outputs": [],
   "source": [
    "data = tf.convert_to_tensor(data1, dtype=tf.float32)\n",
    "x_out = model.sample( data, n_samples = 1, to_numpy=True, training=False)"
   ]
  },
  {
   "cell_type": "code",
   "execution_count": 25,
   "metadata": {},
   "outputs": [
    {
     "name": "stdout",
     "output_type": "stream",
     "text": [
      "(1, 168, 5)\n",
      "[[[1.1437329  2.80306    0.07648166 0.02445604 1.4476515 ]\n",
      "  [1.7046279  3.3379712  0.08187961 0.01852885 1.2813424 ]\n",
      "  [0.84950036 2.7281597  0.05118615 0.03335572 1.4884901 ]\n",
      "  [1.3076849  2.2073493  0.07208852 0.02115667 1.6288733 ]\n",
      "  [1.3770174  3.3796215  0.06482442 0.02582967 1.4502622 ]\n",
      "  [1.4413298  3.3844807  0.09796275 0.03153749 1.4316965 ]\n",
      "  [1.5863456  2.8444643  0.08009084 0.03540692 1.6700604 ]\n",
      "  [1.6512973  2.713461   0.08394083 0.02655922 1.8625324 ]\n",
      "  [1.2241662  2.2519853  0.08831566 0.02779531 1.5852257 ]\n",
      "  [0.7671663  3.6484466  0.08918194 0.03344413 1.3083689 ]\n",
      "  [1.4786134  3.1590693  0.06941566 0.02397681 1.0062926 ]\n",
      "  [0.87145305 3.0773187  0.06164063 0.00820375 1.8955708 ]\n",
      "  [1.0084798  2.5181653  0.06332008 0.01998394 1.1021793 ]\n",
      "  [0.93857855 3.0999153  0.07417395 0.03062506 1.1721596 ]\n",
      "  [1.3207018  3.5942523  0.08255223 0.02917981 1.2143178 ]\n",
      "  [1.3994989  3.1375456  0.04781338 0.03041194 1.4596244 ]\n",
      "  [1.7837105  3.4996624  0.07123552 0.01587467 1.3876894 ]\n",
      "  [1.0727338  2.6787796  0.10184576 0.02239719 1.1527992 ]\n",
      "  [0.71379465 2.6641934  0.08036839 0.04171455 1.3569831 ]\n",
      "  [1.4295017  2.6129038  0.07030322 0.03600262 1.8339427 ]\n",
      "  [1.1010566  3.1112113  0.07687567 0.0247605  1.408492  ]\n",
      "  [1.3874875  2.800861   0.07889551 0.00998458 1.2643726 ]\n",
      "  [1.2028118  3.0728288  0.06591009 0.03787034 1.6320865 ]\n",
      "  [0.869043   2.667731   0.0782304  0.03842586 1.9376575 ]\n",
      "  [1.0785899  2.974717   0.0695121  0.03025652 1.5540394 ]\n",
      "  [1.1144124  2.7906344  0.04514743 0.02140051 1.3420194 ]\n",
      "  [1.3085544  2.921221   0.05891642 0.02606947 1.571211  ]\n",
      "  [0.93930864 3.1881926  0.06585975 0.02068623 1.8130301 ]\n",
      "  [0.78678066 2.316042   0.08964804 0.03267145 0.79023254]\n",
      "  [0.96775043 2.6770074  0.05941648 0.01474767 1.342152  ]\n",
      "  [1.3541472  3.6539972  0.07914599 0.00458804 1.6725793 ]\n",
      "  [1.202339   2.958951   0.08619586 0.01903691 1.0767956 ]\n",
      "  [1.3931489  2.5176415  0.0477658  0.02474445 1.2011628 ]\n",
      "  [1.4157581  2.8933187  0.08368043 0.01373582 0.94165295]\n",
      "  [1.2887492  2.401941   0.09483585 0.02950449 1.2880422 ]\n",
      "  [1.218131   2.4875748  0.09432024 0.01139287 1.6534001 ]\n",
      "  [1.1693134  4.009073   0.05128819 0.02137392 1.7568581 ]\n",
      "  [2.093681   2.5300047  0.05724259 0.02944564 1.8894416 ]\n",
      "  [0.9154275  2.4904125  0.05195049 0.02231927 1.8252145 ]\n",
      "  [1.1086112  2.6502912  0.06515358 0.00546347 1.3685882 ]\n",
      "  [0.6841629  2.9945266  0.07371161 0.02841889 1.515122  ]\n",
      "  [0.75106716 3.6605644  0.05781454 0.03746204 1.732012  ]\n",
      "  [0.7634099  2.7656052  0.08737665 0.03125064 1.3779408 ]\n",
      "  [1.2991308  3.008948   0.05016282 0.02529158 1.5973448 ]\n",
      "  [0.8360464  2.8930552  0.10000707 0.02408923 1.1485834 ]\n",
      "  [1.6482008  3.5331857  0.07609224 0.01929112 1.6753979 ]\n",
      "  [0.91480833 2.4799135  0.04705094 0.0308928  1.2324148 ]\n",
      "  [1.3782679  2.6065571  0.07797025 0.0266987  1.5654602 ]\n",
      "  [1.0547127  2.9655879  0.04948945 0.04369618 1.5331795 ]\n",
      "  [1.2273214  2.3329434  0.06223036 0.01366079 1.2327262 ]\n",
      "  [1.2793058  2.6705897  0.08576356 0.01590393 1.7463667 ]\n",
      "  [1.3616266  3.1104546  0.06781793 0.03325986 1.5651219 ]\n",
      "  [1.6349094  3.2545867  0.07555852 0.00219781 1.141079  ]\n",
      "  [1.1915423  2.1387188  0.08420034 0.009499   1.2738354 ]\n",
      "  [1.11165    3.5087657  0.07581727 0.0245596  1.9941024 ]\n",
      "  [1.6425852  2.6242836  0.07449111 0.03007377 1.2102995 ]\n",
      "  [1.8682331  2.768684   0.08641644 0.02517574 1.1592096 ]\n",
      "  [0.9581733  3.8303819  0.09246346 0.02927821 1.3373162 ]\n",
      "  [1.2202663  2.858362   0.0977345  0.03312817 1.2792943 ]\n",
      "  [1.0561613  2.256735   0.06943555 0.03337863 1.7665102 ]\n",
      "  [1.0638553  3.1289334  0.08529721 0.03918337 1.8739082 ]\n",
      "  [1.0501256  1.8478637  0.0881508  0.01370178 1.6199282 ]\n",
      "  [1.0230546  3.5486856  0.06199282 0.00631351 1.5164819 ]\n",
      "  [1.1025914  2.280148   0.06693786 0.02906327 1.1422952 ]\n",
      "  [1.4097255  2.8954115  0.06879508 0.01719164 1.5411016 ]\n",
      "  [1.3881178  2.6850402  0.09599219 0.01495261 1.6022272 ]\n",
      "  [1.2783803  2.6729896  0.073672   0.02232538 1.7821416 ]\n",
      "  [1.073719   3.0204537  0.07467086 0.02545922 1.9966009 ]\n",
      "  [1.7638597  1.8907585  0.054812   0.01673284 1.8188869 ]\n",
      "  [1.3971156  2.8935678  0.09019745 0.01824855 1.228077  ]\n",
      "  [1.7004608  2.9174943  0.07206227 0.02205611 1.3914529 ]\n",
      "  [1.1924812  2.405705   0.07622717 0.02216243 1.233477  ]\n",
      "  [1.4069002  3.6319149  0.04561963 0.03268301 1.3814863 ]\n",
      "  [0.9457351  2.9421222  0.0486178  0.02610037 1.5243572 ]\n",
      "  [1.5043066  2.673803   0.05952946 0.02295737 1.4947745 ]\n",
      "  [1.135207   3.1773627  0.0540565  0.03434363 1.4143333 ]\n",
      "  [0.72667384 2.5472918  0.06581117 0.02593806 1.9290388 ]\n",
      "  [1.4568331  3.1674721  0.07360297 0.01618332 1.4375206 ]\n",
      "  [1.244728   2.9966648  0.07911325 0.02944427 1.2682154 ]\n",
      "  [0.20972846 2.4875114  0.05152102 0.02978153 1.4493686 ]\n",
      "  [1.5634906  2.885315   0.0852839  0.02314054 1.6033084 ]\n",
      "  [1.1370747  2.9489303  0.07768815 0.03209941 1.6272376 ]\n",
      "  [1.3913983  2.7950985  0.0541284  0.01284543 0.913622  ]\n",
      "  [1.3013968  2.3002295  0.06576797 0.03567782 1.4518865 ]\n",
      "  [0.90245235 3.3613079  0.04971427 0.0190481  1.9572456 ]\n",
      "  [1.0471795  2.6017041  0.06443913 0.02971587 1.1580096 ]\n",
      "  [1.2817856  2.1256814  0.07035173 0.01640563 1.2383913 ]\n",
      "  [1.441592   3.3024497  0.06758257 0.01976671 1.5502951 ]\n",
      "  [1.0870839  3.306932   0.07874218 0.0345419  1.3678856 ]\n",
      "  [1.5178016  3.8321369  0.06151807 0.03490976 1.3538823 ]\n",
      "  [1.1458563  3.0406659  0.05089403 0.03379364 1.6310221 ]\n",
      "  [1.2068385  2.7183075  0.06969986 0.0517677  1.285912  ]\n",
      "  [1.234434   3.2670188  0.08176188 0.03224321 1.4923543 ]\n",
      "  [0.84512645 2.9573572  0.05871129 0.01291432 1.8712693 ]\n",
      "  [1.727759   3.2332966  0.0767036  0.01943169 1.4105946 ]\n",
      "  [1.1513743  3.3768303  0.0673776  0.01589812 1.6763148 ]\n",
      "  [1.0684721  2.6920993  0.06398422 0.02784119 1.3797206 ]\n",
      "  [1.1125966  3.7789984  0.06814204 0.02985704 1.1731614 ]\n",
      "  [1.0721048  2.8846338  0.08532748 0.03476018 1.0528233 ]\n",
      "  [1.1144295  2.949353   0.06131338 0.02258505 1.6982958 ]\n",
      "  [0.74583864 3.052729   0.0863171  0.01673066 1.8955699 ]\n",
      "  [0.8088116  2.3067148  0.05397872 0.03329133 1.7698679 ]\n",
      "  [1.0204006  3.0769677  0.08127728 0.03225261 1.5037687 ]\n",
      "  [0.89298445 2.9332356  0.07033464 0.02592338 1.5040379 ]\n",
      "  [1.493333   3.430878   0.0647113  0.01160835 1.765776  ]\n",
      "  [1.2096399  2.9844167  0.0597897  0.02468533 0.96592265]\n",
      "  [0.9414261  3.0825052  0.07747651 0.01841743 1.4555359 ]\n",
      "  [1.3334236  2.5275576  0.04214475 0.01995312 1.4300792 ]\n",
      "  [1.4950724  3.189274   0.07946523 0.01948677 1.7162094 ]\n",
      "  [0.76507515 3.133744   0.09309493 0.03216875 0.9857315 ]\n",
      "  [1.3841697  3.1733932  0.10381241 0.02741149 1.3524477 ]\n",
      "  [0.96860635 3.1322265  0.07644457 0.01825753 1.6187246 ]\n",
      "  [1.0177686  2.9565115  0.08155217 0.02689997 1.5370128 ]\n",
      "  [1.2326444  3.51289    0.08575948 0.02924322 1.2296348 ]\n",
      "  [1.3349416  2.4575462  0.0753292  0.02967438 1.0313592 ]\n",
      "  [0.8528489  2.3156598  0.06910527 0.03839836 1.5471022 ]\n",
      "  [0.81222874 2.7432072  0.0849027  0.03235441 1.8741887 ]\n",
      "  [1.1913518  2.8323836  0.08527092 0.03532248 1.1205131 ]\n",
      "  [1.6252468  3.0144675  0.07047717 0.0137597  1.3987288 ]\n",
      "  [1.2482749  3.0648372  0.04739893 0.01912298 1.1878473 ]\n",
      "  [1.0998228  2.6982017  0.07260298 0.02140021 1.3746605 ]\n",
      "  [1.9266675  2.9012468  0.08211469 0.03223433 1.6672032 ]\n",
      "  [1.9491547  3.1774411  0.07038451 0.01326831 0.9503491 ]\n",
      "  [1.0838023  3.5597851  0.07133517 0.03656193 1.8652221 ]\n",
      "  [0.39148343 2.963089   0.0539681  0.03902515 1.3539886 ]\n",
      "  [1.4707843  3.4102213  0.09263615 0.0356441  1.7878385 ]\n",
      "  [1.2732581  2.996228   0.07487457 0.03106541 1.59555   ]\n",
      "  [1.2586561  2.348304   0.07219449 0.0158464  1.404692  ]\n",
      "  [0.95360416 2.7862437  0.0791747  0.026094   1.1380507 ]\n",
      "  [0.98955745 4.091369   0.087657   0.04217853 1.3704439 ]\n",
      "  [0.5939962  2.3428075  0.08972099 0.02370322 1.3539424 ]\n",
      "  [0.8056341  3.0018277  0.05741151 0.02361692 1.6641499 ]\n",
      "  [1.4303372  2.963336   0.07619376 0.01689953 1.2726295 ]\n",
      "  [1.1200231  2.6536157  0.1106616  0.04255067 1.9390216 ]\n",
      "  [1.0809451  3.1200078  0.07381356 0.02689139 1.5655609 ]\n",
      "  [1.6287333  3.5706723  0.06898607 0.02638691 1.7019287 ]\n",
      "  [1.061937   3.8546884  0.05769302 0.01675561 1.4188373 ]\n",
      "  [1.3521789  3.0773835  0.08286161 0.02225472 1.4984449 ]\n",
      "  [1.3128629  3.3037324  0.09547509 0.010061   1.5052199 ]\n",
      "  [1.3472828  2.922602   0.03323464 0.02971886 1.3553975 ]\n",
      "  [0.6061837  2.2090914  0.07231484 0.03119188 1.3674859 ]\n",
      "  [1.5114192  2.6705174  0.08709847 0.03147551 0.93306494]\n",
      "  [1.3413583  3.3395903  0.07194686 0.02208057 1.5366802 ]\n",
      "  [1.4195747  2.8212495  0.04806247 0.00931634 1.2885658 ]\n",
      "  [1.2866429  3.479436   0.08243047 0.01592936 1.6459439 ]\n",
      "  [0.80585027 2.62506    0.03543487 0.03132053 1.2807504 ]\n",
      "  [1.4202076  2.5836854  0.07095815 0.01549281 1.7200968 ]\n",
      "  [1.0866026  3.4060247  0.06856053 0.01977157 1.7634114 ]\n",
      "  [0.8174794  3.3181946  0.06307973 0.01953233 1.7991346 ]\n",
      "  [0.94854724 3.178698   0.07977471 0.0409033  1.9992427 ]\n",
      "  [1.1145506  2.4592001  0.07883041 0.03590254 0.95175326]\n",
      "  [0.8184936  2.0049474  0.08008666 0.02003171 1.25742   ]\n",
      "  [1.2591269  2.7221527  0.08253841 0.0108217  1.142909  ]\n",
      "  [1.1326897  2.7738986  0.10790935 0.01538103 1.2765464 ]\n",
      "  [1.076612   2.1135712  0.08274607 0.03274676 1.5152683 ]\n",
      "  [1.2868313  2.6663353  0.07890512 0.04262276 1.9454796 ]\n",
      "  [1.1740086  2.4042342  0.06479788 0.01680163 1.5459296 ]\n",
      "  [1.306533   2.8513188  0.06400925 0.02254325 1.5674483 ]\n",
      "  [0.7617107  2.6049294  0.04576081 0.02582301 1.708459  ]\n",
      "  [1.2251823  3.6843848  0.0796017  0.02035356 1.5224696 ]\n",
      "  [1.5371639  3.621454   0.10638653 0.02670357 1.5506861 ]\n",
      "  [1.0258312  2.2866018  0.06697774 0.03311152 0.8094506 ]\n",
      "  [1.7349852  3.1134453  0.06990822 0.01314427 1.5035744 ]\n",
      "  [1.2854749  3.1081274  0.05019113 0.03605362 1.3323333 ]\n",
      "  [0.90488243 2.8765366  0.08048323 0.02135993 1.0731295 ]\n",
      "  [1.4103699  3.6779523  0.05871668 0.03893133 1.4759951 ]\n",
      "  [0.99926627 3.5219557  0.05832998 0.02011034 1.4225911 ]\n",
      "  [0.89469564 2.6720042  0.08296376 0.01845917 1.565452  ]]]\n",
      "<class 'numpy.ndarray'>\n"
     ]
    }
   ],
   "source": [
    "\n",
    "print(x_out.shape)\n",
    "print(x_out)\n",
    "#print(x_out[:,:,0])\n",
    "#print(x_out[:,:,0].shape)\n",
    "print(type(x_out[:,:,0]))\n",
    "\n",
    "#x1 = tensor(x_out[:,:,0], dtype=torch.int32)\n",
    "#print(type(x1))"
   ]
  },
  {
   "cell_type": "code",
   "execution_count": 18,
   "metadata": {},
   "outputs": [
    {
     "name": "stdout",
     "output_type": "stream",
     "text": [
      "(168,)\n",
      "(168,)\n",
      "(168,)\n",
      "(132,)\n",
      "(3, 168)\n",
      "(64, 5)\n"
     ]
    }
   ],
   "source": [
    "print(data1.shape)\n",
    "print(data2.shape)\n",
    "print(data3.shape)\n",
    "print(data4.shape)\n",
    "\n",
    "\n",
    "data = np.vstack((data1,data2,data3))\n",
    "print(data.shape)\n",
    "print(theta_test.shape)\n",
    "#obs_data = tf.convert_to_tensor(obs_data[:, :], dtype=tf.float32)"
   ]
  },
  {
   "cell_type": "code",
   "execution_count": 19,
   "metadata": {},
   "outputs": [
    {
     "ename": "NameError",
     "evalue": "name 'obs_data' is not defined",
     "output_type": "error",
     "traceback": [
      "\u001b[1;31m---------------------------------------------------------------------------\u001b[0m",
      "\u001b[1;31mNameError\u001b[0m                                 Traceback (most recent call last)",
      "\u001b[1;32m~\\AppData\\Local\\Temp/ipykernel_21984/704899562.py\u001b[0m in \u001b[0;36m<module>\u001b[1;34m\u001b[0m\n\u001b[1;32m----> 1\u001b[1;33m \u001b[0mprint\u001b[0m\u001b[1;33m(\u001b[0m\u001b[0mobs_data\u001b[0m\u001b[1;33m.\u001b[0m\u001b[0mshape\u001b[0m\u001b[1;33m)\u001b[0m\u001b[1;33m\u001b[0m\u001b[1;33m\u001b[0m\u001b[0m\n\u001b[0m\u001b[0;32m      2\u001b[0m \u001b[0mprint\u001b[0m\u001b[1;33m(\u001b[0m\u001b[0mtheta_test\u001b[0m\u001b[1;33m[\u001b[0m\u001b[1;33m:\u001b[0m\u001b[1;36m3\u001b[0m\u001b[1;33m]\u001b[0m\u001b[1;33m.\u001b[0m\u001b[0mshape\u001b[0m\u001b[1;33m)\u001b[0m\u001b[1;33m\u001b[0m\u001b[1;33m\u001b[0m\u001b[0m\n\u001b[0;32m      3\u001b[0m \u001b[1;33m\u001b[0m\u001b[0m\n\u001b[0;32m      4\u001b[0m plot_true_est_scatter(model, obs_data, theta_test[:3], n_samples_posterior, param_names[:5], \n\u001b[0;32m      5\u001b[0m                       figsize=(10, 3), filename='Ricker')\n",
      "\u001b[1;31mNameError\u001b[0m: name 'obs_data' is not defined"
     ]
    }
   ],
   "source": [
    "print(obs_data.shape)\n",
    "print(theta_test[:3].shape)\n",
    "\n",
    "plot_true_est_scatter(model, obs_data, theta_test[:3], n_samples_posterior, param_names[:5], \n",
    "                      figsize=(10, 3), filename='Ricker')\n",
    "                      "
   ]
  },
  {
   "cell_type": "markdown",
   "metadata": {},
   "source": [
    "### Full posterior (visual inspection)"
   ]
  },
  {
   "cell_type": "code",
   "execution_count": null,
   "metadata": {
    "code_folding": []
   },
   "outputs": [],
   "source": [
    "\n",
    "plot_true_est_posterior(model, n_samples=n_samples_posterior, param_names=param_names, \n",
    "                        X_test=X_test[:4, :], theta_test=theta_test[:4, :], tight=True, figsize=(10, 4))\n",
    "\n",
    "\n"
   ]
  },
  {
   "cell_type": "markdown",
   "metadata": {},
   "source": [
    "### Errors"
   ]
  },
  {
   "cell_type": "code",
   "execution_count": null,
   "metadata": {},
   "outputs": [],
   "source": [
    "import argparse\n",
    "import json\n",
    "import numpy as np\n",
    "import os\n",
    "import pyro\n",
    "import pyro.distributions as dist\n",
    "import torch\n",
    "from dataset import load_battery\n",
    "import time\n",
    "\n",
    "# title MCMC Batch Training w/ Regen\n",
    "pyro.set_rng_seed(1)\n",
    "\n",
    "\n",
    "def battery_model(length: int, noise_std: float):\n",
    "    \"\"\"Create the model of battery degradation.\"\"\"\n",
    "\n",
    "    # parameter priors\n",
    "    param_a = torch.tensor(x_out[:,:,0], dtype=torch.int32)\n",
    "    param_b = torch.tensor(x_out[:,:,1], dtype=torch.int32)\n",
    "\n",
    "    poisson_rate = torch.tensor(x_out[:,:,2], dtype=torch.int32)\n",
    "    #poisson_rate_int = poisson_rate.item()\n",
    "\n",
    "    regen_gamma_beta = torch.tensor(x_out[:,:,3], dtype=torch.int32)\n",
    "    regen_gamma_mu = torch.tensor(x_out[:,:,4], dtype=torch.int32)\n",
    "\n",
    "    Ri = np.random.gamma(regen_gamma_beta.item(), regen_gamma_mu.item())\n",
    "\n",
    "    state_history = torch.zeros((length,))\n",
    "    measurement_history = torch.zeros((length,))\n",
    "    for i in range(length):\n",
    "        if i == 0:\n",
    "            next_capacity = torch.tensor(1.0)\n",
    "        elif i % round(1 / poisson_rate) == 0:\n",
    "            next_capacity = (\n",
    "                state_history[i - 1]\n",
    "                - (param_a * param_b * i) / (10000 + (param_b * i) ** 2)\n",
    "                + Ri\n",
    "            )\n",
    "        else:\n",
    "            next_capacity = state_history[i - 1] - (param_a * param_b * i) / (\n",
    "                10000 + (param_b * i) ** 2\n",
    "            )\n",
    "\n",
    "        next_observed = pyro.sample(\n",
    "            f\"meas_{i}\", dist.Normal(next_capacity, torch.tensor(noise_std))\n",
    "        )\n",
    "        state_history[i] = next_capacity\n",
    "        measurement_history[i] = next_observed\n",
    "\n",
    "    return state_history, measurement_history\n",
    "\n",
    "\n",
    "def conditioned_battery_model(\n",
    "    model, measurement_history: torch.Tensor, noise_std: float\n",
    "):\n",
    "    return pyro.condition(\n",
    "        model, data={f\"meas_{i}\": m for i, m in enumerate(measurement_history)}\n",
    "    )(measurement_history.shape[0], noise_std)\n",
    "\n",
    "\n",
    "'''\n",
    "def main(args):\n",
    "    if torch.cuda.is_available():\n",
    "        torch.set_default_tensor_type(torch.Tensor().to(\"cuda\").type())\n",
    "    battery_data = load_battery(os.path.abspath(args.filename))\n",
    "    print(\"MCMC\")\n",
    "    print(args)\n",
    "    times = []\n",
    "    for _ in range(args.timing_trials):\n",
    "        # do MCMC with NUTS\n",
    "        nuts_kernel = pyro.infer.NUTS(\n",
    "            conditioned_battery_model, jit_compile=True, ignore_jit_warnings=True\n",
    "        )\n",
    "        mcmc = pyro.infer.MCMC(\n",
    "            nuts_kernel,\n",
    "            num_samples=args.samples,\n",
    "            warmup_steps=args.burnin,\n",
    "            num_chains=args.chains,\n",
    "        )\n",
    "        tic = time.time()\n",
    "        mcmc.run(\n",
    "            battery_model, torch.Tensor(battery_data[: args.train_cycles]), args.noise\n",
    "        )\n",
    "        toc = time.time()\n",
    "        times.append(toc - tic)\n",
    "        print(f\"MCMC Time: {times[-1]:0.2f} s\")\n",
    "    times = np.array(times)\n",
    "    print(f\"Mean: {np.mean(times)}, Std: {np.std(times)}\")\n",
    "    print()'''\n",
    "\n",
    "\n"
   ]
  },
  {
   "cell_type": "code",
   "execution_count": null,
   "metadata": {},
   "outputs": [],
   "source": [
    "print(x_out.shape)\n",
    "#print(x_out)\n",
    "#print(x_out[:,:,0])\n",
    "#print(x_out[:,:,0].shape)\n",
    "print(type(x_out[:,:,0]))\n",
    "\n",
    "x1 = torch.tensor(x_out[:,:,0], dtype=torch.int32)\n",
    "print(type(x1))\n",
    "\n",
    "regen_gamma_beta = torch.tensor(x_out[:,:,3], dtype=torch.int32)\n",
    "regen_gamma_mu = torch.tensor(x_out[:,:,4], dtype=torch.int32)\n",
    "\n",
    "print(regen_gamma_beta)"
   ]
  },
  {
   "cell_type": "code",
   "execution_count": null,
   "metadata": {},
   "outputs": [],
   "source": [
    "state_history,measurement_history = battery_model(length= 100, noise_std=0.75)\n",
    "x_out,noise_std =  conditioned_battery_model(model, measurement_history, noise_std=0.75)\n",
    "\n",
    "\n"
   ]
  }
 ],
 "metadata": {
  "interpreter": {
   "hash": "d6a56fe9d1c4e9b0c2faaaba6a8fd3f266e3110524a26119d3f06403b30aee02"
  },
  "kernelspec": {
   "display_name": "Python 3.9.7 ('base')",
   "language": "python",
   "name": "python3"
  },
  "language_info": {
   "codemirror_mode": {
    "name": "ipython",
    "version": 3
   },
   "file_extension": ".py",
   "mimetype": "text/x-python",
   "name": "python",
   "nbconvert_exporter": "python",
   "pygments_lexer": "ipython3",
   "version": "3.9.7"
  },
  "toc": {
   "base_numbering": 1,
   "nav_menu": {},
   "number_sections": true,
   "sideBar": true,
   "skip_h1_title": false,
   "title_cell": "Table of Contents",
   "title_sidebar": "Contents",
   "toc_cell": false,
   "toc_position": {
    "height": "calc(100% - 180px)",
    "left": "10px",
    "top": "150px",
    "width": "195.6px"
   },
   "toc_section_display": true,
   "toc_window_display": true
  }
 },
 "nbformat": 4,
 "nbformat_minor": 2
}
